{
 "cells": [
  {
   "cell_type": "markdown",
   "metadata": {},
   "source": [
    "## Parametry"
   ]
  },
  {
   "cell_type": "code",
   "execution_count": 1,
   "metadata": {},
   "outputs": [],
   "source": [
    "SERIES_LENGHT = 72\n",
    "VALUES_DATATYPE = 'float64'\n",
    "LEARNING_RATE = 0.0005\n",
    "EPOCHS = 10\n",
    "BATCH_SIZE = 32\n",
    "COMPRESSION = 51"
   ]
  },
  {
   "cell_type": "markdown",
   "metadata": {},
   "source": [
    "## Wczytanie danych z pliku"
   ]
  },
  {
   "cell_type": "code",
   "execution_count": 2,
   "metadata": {
    "pycharm": {
     "is_executing": false
    }
   },
   "outputs": [
    {
     "name": "stdout",
     "output_type": "stream",
     "text": [
      "[[[-2.51618507e-01 -2.25788487e-01 -2.57859923e-02 ...  0.00000000e+00\n",
      "    0.00000000e+00  0.00000000e+00]\n",
      "  [-2.51618507e-01 -2.47745554e-01 -2.57859923e-02 ...  0.00000000e+00\n",
      "    0.00000000e+00  0.00000000e+00]\n",
      "  [-2.51618507e-01 -2.69702620e-01 -7.36712015e-02 ...  0.00000000e+00\n",
      "    0.00000000e+00  0.00000000e+00]\n",
      "  ...\n",
      "  [ 5.33446376e+00 -4.89273283e-01 -3.37039852e-01 ...  0.00000000e+00\n",
      "    0.00000000e+00  0.00000000e+00]\n",
      "  [ 1.47387369e-01 -5.55144482e-01 -4.56752875e-01 ...  0.00000000e+00\n",
      "    0.00000000e+00  0.00000000e+00]\n",
      "  [-2.51618507e-01 -4.23402084e-01 -3.84925061e-01 ...  0.00000000e+00\n",
      "    0.00000000e+00  0.00000000e+00]]\n",
      "\n",
      " [[-2.51618507e-01 -4.45359150e-01 -5.76465898e-01 ...  0.00000000e+00\n",
      "    0.00000000e+00  0.00000000e+00]\n",
      "  [-2.51618507e-01 -4.01445018e-01 -5.04638084e-01 ...  0.00000000e+00\n",
      "    0.00000000e+00  0.00000000e+00]\n",
      "  [-2.51618507e-01 -3.79487951e-01 -3.37039852e-01 ...  0.00000000e+00\n",
      "    0.00000000e+00  0.00000000e+00]\n",
      "  ...\n",
      "  [-2.51618507e-01 -7.08843946e-01 -7.44064130e-01 ...  0.00000000e+00\n",
      "    0.00000000e+00  0.00000000e+00]\n",
      "  [ 3.46890307e-01 -6.42972747e-01 -5.76465898e-01 ...  0.00000000e+00\n",
      "    0.00000000e+00  0.00000000e+00]\n",
      "  [ 3.46890307e-01 -6.42972747e-01 -5.04638084e-01 ...  0.00000000e+00\n",
      "    0.00000000e+00  0.00000000e+00]]\n",
      "\n",
      " [[ 1.47387369e-01 -5.55144482e-01 -3.37039852e-01 ...  0.00000000e+00\n",
      "    0.00000000e+00  0.00000000e+00]\n",
      "  [ 1.54390793e+00 -3.35573819e-01 -1.21556411e-01 ...  0.00000000e+00\n",
      "    0.00000000e+00  0.00000000e+00]\n",
      "  [ 7.45896183e-01 -2.03831421e-01 -1.84338771e-03 ...  0.00000000e+00\n",
      "    0.00000000e+00  0.00000000e+00]\n",
      "  ...\n",
      "  [-2.51618507e-01 -1.59917288e-01  9.39270307e-02 ...  0.00000000e+00\n",
      "    0.00000000e+00  0.00000000e+00]\n",
      "  [-2.51618507e-01 -2.03831421e-01  4.60418215e-02 ...  0.00000000e+00\n",
      "    0.00000000e+00  0.00000000e+00]\n",
      "  [-2.51618507e-01 -2.25788487e-01  4.60418215e-02 ...  0.00000000e+00\n",
      "    0.00000000e+00  0.00000000e+00]]\n",
      "\n",
      " ...\n",
      "\n",
      " [[-2.51618507e-01 -1.34559887e+00 -1.41445706e+00 ...  0.00000000e+00\n",
      "    0.00000000e+00  1.00000000e+00]\n",
      "  [-5.21155687e-02 -1.25777060e+00 -1.39051445e+00 ...  0.00000000e+00\n",
      "    0.00000000e+00  1.00000000e+00]\n",
      "  [ 1.47387369e-01 -1.41147007e+00 -1.36657185e+00 ...  0.00000000e+00\n",
      "    0.00000000e+00  1.00000000e+00]\n",
      "  ...\n",
      "  [-2.51618507e-01 -2.22388152e+00 -2.20456301e+00 ...  0.00000000e+00\n",
      "    0.00000000e+00  1.00000000e+00]\n",
      "  [-2.51618507e-01 -2.28975272e+00 -2.30033343e+00 ...  0.00000000e+00\n",
      "    0.00000000e+00  1.00000000e+00]\n",
      "  [-2.51618507e-01 -2.22388152e+00 -2.20456301e+00 ...  0.00000000e+00\n",
      "    0.00000000e+00  1.00000000e+00]]\n",
      "\n",
      " [[-2.51618507e-01 -1.80669726e+00 -1.70176831e+00 ...  0.00000000e+00\n",
      "    0.00000000e+00  1.00000000e+00]\n",
      "  [-2.51618507e-01 -1.76278313e+00 -1.65388311e+00 ...  0.00000000e+00\n",
      "    0.00000000e+00  1.00000000e+00]\n",
      "  [-2.51618507e-01 -1.69691193e+00 -1.60599790e+00 ...  0.00000000e+00\n",
      "    0.00000000e+00  1.00000000e+00]\n",
      "  ...\n",
      "  [-2.51618507e-01 -1.16994234e+00 -1.27080143e+00 ...  0.00000000e+00\n",
      "    0.00000000e+00  1.00000000e+00]\n",
      "  [-2.51618507e-01 -1.23581354e+00 -1.34262925e+00 ...  0.00000000e+00\n",
      "    0.00000000e+00  1.00000000e+00]\n",
      "  [-2.51618507e-01 -1.14798527e+00 -1.24685883e+00 ...  0.00000000e+00\n",
      "    0.00000000e+00  1.00000000e+00]]\n",
      "\n",
      " [[-2.51618507e-01 -1.63104073e+00 -1.65388311e+00 ...  0.00000000e+00\n",
      "    0.00000000e+00  1.00000000e+00]\n",
      "  [-2.51618507e-01 -1.12602821e+00 -1.22291622e+00 ...  0.00000000e+00\n",
      "    0.00000000e+00  1.00000000e+00]\n",
      "  [-2.51618507e-01 -1.12602821e+00 -1.31868664e+00 ...  0.00000000e+00\n",
      "    0.00000000e+00  1.00000000e+00]\n",
      "  ...\n",
      "  [-2.51618507e-01 -1.27972767e+00 -1.51022748e+00 ...  0.00000000e+00\n",
      "    0.00000000e+00  1.00000000e+00]\n",
      "  [-2.51618507e-01 -1.30168474e+00 -1.51022748e+00 ...  0.00000000e+00\n",
      "    0.00000000e+00  1.00000000e+00]\n",
      "  [-2.51618507e-01 -1.23581354e+00 -1.41445706e+00 ...  0.00000000e+00\n",
      "    0.00000000e+00  1.00000000e+00]]]\n",
      "(33814, 72, 37)\n"
     ]
    }
   ],
   "source": [
    "import numpy as np\n",
    "\n",
    "data = np.load(\"../resources/\" + \"data_%s_series_%d_compression_%d.npy\" % (VALUES_DATATYPE, SERIES_LENGHT, COMPRESSION))\n",
    "print(data)\n",
    "print(data.shape)"
   ]
  },
  {
   "cell_type": "markdown",
   "metadata": {},
   "source": [
    "## Wydzielenie zbiorów"
   ]
  },
  {
   "cell_type": "code",
   "execution_count": 3,
   "metadata": {
    "pycharm": {
     "is_executing": false
    }
   },
   "outputs": [
    {
     "name": "stdout",
     "output_type": "stream",
     "text": [
      "Dane treningowe: (25360, 71, 37)\n"
     ]
    }
   ],
   "source": [
    "from sklearn.model_selection import train_test_split\n",
    "\n",
    "X = data[:, :SERIES_LENGHT - 1, :]\n",
    "Y = data[:, SERIES_LENGHT - 1, :]\n",
    "\n",
    "X_train, X_test, Y_train, Y_test = train_test_split(X, Y, random_state=0)\n",
    "print(\"Dane treningowe: \"+ str(X_train.shape))"
   ]
  },
  {
   "cell_type": "markdown",
   "metadata": {},
   "source": [
    "## Definicja sieci"
   ]
  },
  {
   "cell_type": "code",
   "execution_count": 4,
   "metadata": {
    "pycharm": {
     "is_executing": false
    }
   },
   "outputs": [
    {
     "name": "stderr",
     "output_type": "stream",
     "text": [
      "Using TensorFlow backend.\n"
     ]
    }
   ],
   "source": [
    "from tensorflow.keras import Sequential\n",
    "from tensorflow.keras.layers import LSTM, Dense, Dropout\n",
    "from tensorflow.keras.optimizers import *\n",
    "from script.main.loss_functions import *\n",
    "import tensorflow as tf\n",
    "\n",
    "model = Sequential()\n",
    "model.add(LSTM(units=37, activation=tf.keras.layers.LeakyReLU(alpha=0.3), return_sequences=True, input_shape=(SERIES_LENGHT - 1,37)))\n",
    "model.add(LSTM(units=37, activation=tf.keras.layers.LeakyReLU(alpha=0.3), return_sequences=True))\n",
    "model.add(LSTM(units=37, activation=tf.keras.layers.LeakyReLU(alpha=0.3)))\n",
    "model.add(Dense(19))\n",
    "model.compile(loss=mean_proportional_loss_func, optimizer=Adam(lr=LEARNING_RATE), metrics=['accuracy'])"
   ]
  },
  {
   "cell_type": "markdown",
   "metadata": {},
   "source": [
    "## Diagram sieci"
   ]
  },
  {
   "cell_type": "code",
   "execution_count": 5,
   "metadata": {},
   "outputs": [
    {
     "data": {
      "image/png": "[encoded data removed]",
      "text/plain": [
       "<IPython.core.display.Image object>"
      ]
     },
     "execution_count": 5,
     "metadata": {},
     "output_type": "execute_result"
    }
   ],
   "source": [
    "from tensorflow.keras.utils import plot_model\n",
    "\n",
    "plot_model(model, show_shapes=True)"
   ]
  },
  {
   "cell_type": "markdown",
   "metadata": {},
   "source": [
    "## Uczenie"
   ]
  },
  {
   "cell_type": "code",
   "execution_count": null,
   "metadata": {
    "pycharm": {
     "is_executing": true
    },
    "scrolled": true
   },
   "outputs": [
    {
     "name": "stdout",
     "output_type": "stream",
     "text": [
      "Train on 25360 samples, validate on 8454 samples\n",
      "Epoch 1/10\n",
      "| progress:   0.100000 |\n",
      "| loss:   0.330741 |\n",
      "| val_loss:   0.263361 |\n",
      "25360/25360 - 118s - loss: 0.3307 - accuracy: 0.2407 - val_loss: 0.2634 - val_accuracy: 0.3279\n",
      "Epoch 2/10\n",
      "| progress:   0.100000 |\n",
      "| loss:   0.228426 |\n",
      "| val_loss:   0.190184 |\n",
      "25360/25360 - 126s - loss: 0.2284 - accuracy: 0.4025 - val_loss: 0.1902 - val_accuracy: 0.4839\n",
      "Epoch 3/10\n",
      "| progress:   0.055647 |\n",
      "| loss:   0.172779 |\n",
      "| val_loss:   0.158390 |\n",
      "25360/25360 - 119s - loss: 0.1728 - accuracy: 0.5140 - val_loss: 0.1584 - val_accuracy: 0.5448\n",
      "Epoch 4/10\n",
      "| progress:   0.021958 |\n",
      "| loss:   0.150821 |\n",
      "| val_loss:   0.147469 |\n",
      "25360/25360 - 117s - loss: 0.1508 - accuracy: 0.5517 - val_loss: 0.1475 - val_accuracy: 0.5633\n",
      "Epoch 5/10\n",
      "| progress:   0.008551 |\n",
      "| loss:   0.142270 |\n",
      "| val_loss:   0.139178 |\n",
      "25360/25360 - 119s - loss: 0.1423 - accuracy: 0.5644 - val_loss: 0.1392 - val_accuracy: 0.5699\n",
      "Epoch 6/10\n",
      "| progress:   0.004953 |\n",
      "| loss:   0.137317 |\n",
      "| val_loss:   0.138451 |\n",
      "25360/25360 - 122s - loss: 0.1373 - accuracy: 0.5734 - val_loss: 0.1385 - val_accuracy: 0.5724\n",
      "Epoch 7/10\n",
      "| progress:   0.005232 |\n",
      "| loss:   0.132085 |\n",
      "| val_loss:   0.131253 |\n",
      "25360/25360 - 116s - loss: 0.1321 - accuracy: 0.5915 - val_loss: 0.1313 - val_accuracy: 0.6067\n",
      "Epoch 8/10\n",
      "| progress:   0.004597 |\n",
      "| loss:   0.127488 |\n",
      "| val_loss:   0.123952 |\n",
      "25360/25360 - 122s - loss: 0.1275 - accuracy: 0.6164 - val_loss: 0.1240 - val_accuracy: 0.6273\n",
      "Epoch 9/10\n",
      "| progress:   0.003999 |\n",
      "| loss:   0.123489 |\n",
      "| val_loss:   0.122472 |\n",
      "25360/25360 - 121s - loss: 0.1235 - accuracy: 0.6359 - val_loss: 0.1225 - val_accuracy: 0.6480\n",
      "Epoch 10/10\n"
     ]
    }
   ],
   "source": [
    "from script.main.callback.hyperdash_callback import HyperdashCallback\n",
    "my_callbacks = [\n",
    "    tf.keras.callbacks.TensorBoard(log_dir='.\\logs', histogram_freq=1),\n",
    "    HyperdashCallback(),\n",
    "    tf.keras.callbacks.ReduceLROnPlateau(monitor='val_loss', factor=0.5, patience=5)\n",
    "]\n",
    " \n",
    "model.fit(X_train,Y_train, epochs=EPOCHS, batch_size=BATCH_SIZE, verbose=2, callbacks=my_callbacks, validation_data=(X_test, Y_test))\n"
   ]
  },
  {
   "cell_type": "markdown",
   "metadata": {},
   "source": [
    "## Zapis modelu od pliku"
   ]
  },
  {
   "cell_type": "code",
   "execution_count": null,
   "metadata": {},
   "outputs": [],
   "source": [
    "model.save(\"../resources/trained_model_type2.h5\", save_format='tf')"
   ]
  },
  {
   "cell_type": "markdown",
   "metadata": {},
   "source": [
    "## Zapis danych testowych do pliku"
   ]
  },
  {
   "cell_type": "code",
   "execution_count": null,
   "metadata": {},
   "outputs": [],
   "source": [
    "np.save(\"../resources/test_data/X_test\", X_test)\n",
    "np.save(\"../resources/test_data/Y_test\", Y_test)"
   ]
  },
  {
   "cell_type": "markdown",
   "metadata": {},
   "source": [
    "## "
   ]
  },
  {
   "cell_type": "code",
   "execution_count": null,
   "metadata": {},
   "outputs": [],
   "source": []
  }
 ],
 "metadata": {
  "kernelspec": {
   "display_name": "Python 3",
   "language": "python",
   "name": "python3"
  },
  "language_info": {
   "codemirror_mode": {
    "name": "ipython",
    "version": 3
   },
   "file_extension": ".py",
   "mimetype": "text/x-python",
   "name": "python",
   "nbconvert_exporter": "python",
   "pygments_lexer": "ipython3",
   "version": "3.6.1"
  },
  "pycharm": {
   "stem_cell": {
    "cell_type": "raw",
    "metadata": {
     "collapsed": false
    },
    "source": []
   }
  }
 },
 "nbformat": 4,
 "nbformat_minor": 4
}
