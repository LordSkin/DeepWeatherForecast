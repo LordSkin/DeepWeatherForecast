{
 "cells": [
  {
   "cell_type": "markdown",
   "metadata": {},
   "source": [
    "## Parametry"
   ]
  },
  {
   "cell_type": "code",
   "execution_count": 13,
   "metadata": {},
   "outputs": [],
   "source": [
    "SERIES_LENGHT = 72\n",
    "VALUES_DATATYPE = 'float16'\n",
    "LEARNING_RATE = 0.001\n",
    "EPOCHS = 15\n",
    "BATCH_SIZE = 32"
   ]
  },
  {
   "cell_type": "markdown",
   "metadata": {},
   "source": [
    "## Wczytanie danych z pliku"
   ]
  },
  {
   "cell_type": "code",
   "execution_count": 14,
   "metadata": {
    "pycharm": {
     "is_executing": false
    }
   },
   "outputs": [
    {
     "name": "stdout",
     "output_type": "stream",
     "text": [
      "[[[-0.2517  -0.2258   0.2161  ...  0.       0.       0.     ]\n",
      "  [-0.2517  -0.2478   0.2386  ...  0.       0.       0.     ]\n",
      "  [-0.2517  -0.2698   0.1708  ...  0.       0.       0.     ]\n",
      "  ...\n",
      "  [ 5.336   -0.4893  -0.1232  ...  0.       0.       0.     ]\n",
      "  [ 0.1473  -0.555   -0.2815  ...  0.       0.       0.     ]\n",
      "  [-0.2517  -0.4233  -0.3042  ...  0.       0.       0.     ]]\n",
      "\n",
      " [[-0.2517  -0.3794  -0.5303  ...  0.       0.       0.     ]\n",
      "  [-0.2517  -0.4453  -0.7793  ...  0.       0.       0.     ]\n",
      "  [-0.2517  -0.577   -0.734   ...  0.       0.       0.     ]\n",
      "  ...\n",
      "  [-0.2517  -1.038   -1.299   ...  0.       0.       0.     ]\n",
      "  [-0.2517  -0.8843  -1.187   ...  0.       0.       0.     ]\n",
      "  [-0.05212 -0.621   -1.028   ...  0.       0.       0.     ]]\n",
      "\n",
      " [[ 1.943   -0.599   -0.03278 ...  0.       0.       0.     ]\n",
      "  [-0.2517  -0.577   -0.1232  ...  0.       0.       0.     ]\n",
      "  [-0.05212 -0.577   -0.1685  ...  0.       0.       0.     ]\n",
      "  ...\n",
      "  [-0.2517  -1.455   -1.458   ...  0.       0.       0.     ]\n",
      "  [-0.2517  -1.543   -1.254   ...  0.       0.       0.     ]\n",
      "  [-0.2517  -1.258   -1.187   ...  0.       0.       0.     ]]\n",
      "\n",
      " ...\n",
      "\n",
      " [[-0.05212 -0.775   -0.983   ...  0.       0.       1.     ]\n",
      "  [-0.2517  -0.775   -0.983   ...  0.       0.       1.     ]\n",
      "  [-0.2517  -0.731   -0.983   ...  0.       0.       1.     ]\n",
      "  ...\n",
      "  [-0.2517  -0.994   -1.503   ...  0.       0.       1.     ]\n",
      "  [-0.2517  -0.95    -1.367   ...  0.       0.       1.     ]\n",
      "  [-0.05212 -1.061   -0.666   ...  0.       0.       1.     ]]\n",
      "\n",
      " [[-0.2517  -1.895   -1.639   ...  0.       0.       1.     ]\n",
      "  [-0.2517  -1.96    -1.57    ...  0.       0.       1.     ]\n",
      "  [-0.2517  -1.938   -1.616   ...  0.       0.       1.     ]\n",
      "  ...\n",
      "  [-0.2517  -1.017   -1.661   ...  0.       0.       1.     ]\n",
      "  [-0.2517  -1.038   -1.345   ...  0.       0.       1.     ]\n",
      "  [-0.2517  -1.126   -1.458   ...  0.       0.       1.     ]]\n",
      "\n",
      " [[-0.2517  -1.126   -1.276   ...  0.       0.       1.     ]\n",
      "  [-0.2517  -1.126   -1.525   ...  0.       0.       1.     ]\n",
      "  [-0.2517  -1.697   -1.616   ...  0.       0.       1.     ]\n",
      "  ...\n",
      "  [-0.2517  -1.302   -1.752   ...  0.       0.       1.     ]\n",
      "  [-0.2517  -1.235   -1.594   ...  0.       0.       1.     ]\n",
      "  [-0.2517  -1.17    -1.639   ...  0.       0.       1.     ]]]\n",
      "(132581, 72, 37)\n"
     ]
    }
   ],
   "source": [
    "import numpy as np\n",
    "\n",
    "data = np.load(\"../resources/\" + \"data_%s_series_%d.npy\" % (VALUES_DATATYPE, SERIES_LENGHT))\n",
    "print(data)\n",
    "print(data.shape)"
   ]
  },
  {
   "cell_type": "markdown",
   "metadata": {},
   "source": [
    "## Wydzielenie zbiorów"
   ]
  },
  {
   "cell_type": "code",
   "execution_count": 15,
   "metadata": {
    "pycharm": {
     "is_executing": false
    }
   },
   "outputs": [
    {
     "name": "stdout",
     "output_type": "stream",
     "text": [
      "Dane treningowe: (99435, 37, 71)\n"
     ]
    }
   ],
   "source": [
    "from sklearn.model_selection import train_test_split\n",
    "\n",
    "X = np.swapaxes(data[:, :SERIES_LENGHT - 1, :],1,2)\n",
    "Y = np.swapaxes(data[:, SERIES_LENGHT - 1:, :],1,2)\n",
    "\n",
    "X_train, X_test, Y_train, Y_test = train_test_split(X, Y, random_state=0)\n",
    "print(\"Dane treningowe: \"+ str(X_train.shape))"
   ]
  },
  {
   "cell_type": "markdown",
   "metadata": {},
   "source": [
    "## Definicja sieci"
   ]
  },
  {
   "cell_type": "code",
   "execution_count": 16,
   "metadata": {
    "pycharm": {
     "is_executing": false
    }
   },
   "outputs": [],
   "source": [
    "from tensorflow.keras import Sequential\n",
    "from tensorflow.keras.layers import LSTM, Dense, Dropout\n",
    "from tensorflow_core.python.keras.optimizer_v2.rmsprop import RMSProp\n",
    "from script.main.loss_functions import *\n",
    "\n",
    "model = Sequential()\n",
    "model.add(LSTM(units=128, activation=\"relu\", return_sequences=True, input_shape=(37, SERIES_LENGHT - 1)))\n",
    "model.add(Dropout(0.3))\n",
    "model.add(LSTM(units=64, activation=\"relu\"))\n",
    "model.add(Dropout(0.3))\n",
    "model.add(Dense(64, activation=\"relu\"))\n",
    "model.add(Dense(19))\n",
    "model.compile(loss=mean_square_loss_func, optimizer=RMSProp(lr=LEARNING_RATE), metrics=['accuracy'])"
   ]
  },
  {
   "cell_type": "markdown",
   "metadata": {},
   "source": [
    "## Diagram sieci"
   ]
  },
  {
   "cell_type": "code",
   "execution_count": 17,
   "metadata": {},
   "outputs": [
    {
     "data": {
      "image/png": "[encoded data removed]",
      "text/plain": [
       "<IPython.core.display.Image object>"
      ]
     },
     "execution_count": 17,
     "metadata": {},
     "output_type": "execute_result"
    }
   ],
   "source": [
    "from tensorflow.keras.utils import plot_model\n",
    "\n",
    "plot_model(model, show_shapes=True)"
   ]
  },
  {
   "cell_type": "markdown",
   "metadata": {},
   "source": [
    "## Uczenie"
   ]
  },
  {
   "cell_type": "code",
   "execution_count": 18,
   "metadata": {
    "pycharm": {
     "is_executing": true
    }
   },
   "outputs": [
    {
     "name": "stdout",
     "output_type": "stream",
     "text": [
      "Train on 99435 samples\n",
      "Epoch 1/15\n",
      "99435/99435 - 138s - loss: 147.0407 - accuracy: 0.1924\n",
      "Epoch 2/15\n",
      "99435/99435 - 140s - loss: 4.3431 - accuracy: 0.2165\n",
      "Epoch 3/15\n",
      "99435/99435 - 144s - loss: 0.2723 - accuracy: 0.2387\n",
      "Epoch 4/15\n",
      "99435/99435 - 145s - loss: 0.3734 - accuracy: 0.2646\n",
      "Epoch 5/15\n",
      "99435/99435 - 141s - loss: 0.1851 - accuracy: 0.2834\n",
      "Epoch 6/15\n",
      "99435/99435 - 145s - loss: 0.1698 - accuracy: 0.3169\n",
      "Epoch 7/15\n",
      "99435/99435 - 148s - loss: 0.1586 - accuracy: 0.3532\n",
      "Epoch 8/15\n",
      "99435/99435 - 147s - loss: 0.1509 - accuracy: 0.3727\n",
      "Epoch 9/15\n",
      "99435/99435 - 146s - loss: 0.1510 - accuracy: 0.3755\n",
      "Epoch 10/15\n",
      "99435/99435 - 146s - loss: 0.1378 - accuracy: 0.3992\n",
      "Epoch 11/15\n",
      "99435/99435 - 141s - loss: 0.1345 - accuracy: 0.4112\n",
      "Epoch 12/15\n",
      "99435/99435 - 142s - loss: 0.3245 - accuracy: 0.4148\n",
      "Epoch 13/15\n",
      "99435/99435 - 142s - loss: 0.1224 - accuracy: 0.4285\n",
      "Epoch 14/15\n",
      "99435/99435 - 142s - loss: 0.1243 - accuracy: 0.4452\n",
      "Epoch 15/15\n",
      "99435/99435 - 142s - loss: 0.1224 - accuracy: 0.4635\n"
     ]
    },
    {
     "data": {
      "text/plain": [
       "<tensorflow.python.keras.callbacks.History at 0x254a53844e0>"
      ]
     },
     "execution_count": 18,
     "metadata": {},
     "output_type": "execute_result"
    }
   ],
   "source": [
    "model.fit(X_train,Y_train, epochs=EPOCHS, batch_size=BATCH_SIZE, verbose=2)"
   ]
  },
  {
   "cell_type": "markdown",
   "metadata": {},
   "source": [
    "## Zapis modelu od pliku"
   ]
  },
  {
   "cell_type": "code",
   "execution_count": 31,
   "metadata": {},
   "outputs": [],
   "source": [
    "model.save(\"../resources/trained_model.h5\", save_format='tf')"
   ]
  },
  {
   "cell_type": "markdown",
   "metadata": {},
   "source": [
    "## Zapis danych testowych do pliku"
   ]
  },
  {
   "cell_type": "code",
   "execution_count": 33,
   "metadata": {},
   "outputs": [],
   "source": [
    "np.save(\"../resources/test_data/X_test\", X_test)\n",
    "np.save(\"../resources/test_data/Y_test\", Y_test)"
   ]
  },
  {
   "cell_type": "markdown",
   "metadata": {
    "pycharm": {
     "is_executing": true
    }
   },
   "source": [
    "## Wykres zmiennosci temperatur"
   ]
  },
  {
   "cell_type": "markdown",
   "metadata": {},
   "source": [
    "### Prawdziwe temperatury"
   ]
  },
  {
   "cell_type": "code",
   "execution_count": 28,
   "metadata": {
    "pycharm": {
     "is_executing": true
    }
   },
   "outputs": [
    {
     "data": {
      "image/png": "[encoded data removed]",
      "text/plain": [
       "<Figure size 432x288 with 1 Axes>"
      ]
     },
     "metadata": {
      "needs_background": "light"
     },
     "output_type": "display_data"
    }
   ],
   "source": [
    "import matplotlib.pyplot as plt\n",
    "plt.plot(np.squeeze(X_test[0:1:,1:2,:]))\n",
    "plt.ylabel('some numbers')\n",
    "plt.show()"
   ]
  },
  {
   "cell_type": "markdown",
   "metadata": {},
   "source": [
    "### Przewidziane temperatury"
   ]
  },
  {
   "cell_type": "code",
   "execution_count": 29,
   "metadata": {
    "pycharm": {
     "is_executing": true
    }
   },
   "outputs": [
    {
     "ename": "IndexError",
     "evalue": "index 19 is out of bounds for axis 1 with size 19",
     "output_type": "error",
     "traceback": [
      "\u001b[1;31m---------------------------------------------------------------------------\u001b[0m",
      "\u001b[1;31mIndexError\u001b[0m                                Traceback (most recent call last)",
      "\u001b[1;32m<ipython-input-29-de0bb99c1a18>\u001b[0m in \u001b[0;36m<module>\u001b[1;34m\u001b[0m\n\u001b[0;32m     17\u001b[0m     \u001b[0mpredicted\u001b[0m\u001b[1;33m[\u001b[0m\u001b[1;36m0\u001b[0m\u001b[1;33m,\u001b[0m\u001b[1;36m18\u001b[0m\u001b[1;33m]\u001b[0m \u001b[1;33m=\u001b[0m \u001b[0mint\u001b[0m\u001b[1;33m(\u001b[0m\u001b[0mi\u001b[0m\u001b[1;33m==\u001b[0m\u001b[1;36m22\u001b[0m \u001b[1;32mor\u001b[0m \u001b[0mi\u001b[0m\u001b[1;33m==\u001b[0m\u001b[1;36m23\u001b[0m\u001b[1;33m)\u001b[0m\u001b[1;33m\u001b[0m\u001b[0m\n\u001b[0;32m     18\u001b[0m \u001b[1;33m\u001b[0m\u001b[0m\n\u001b[1;32m---> 19\u001b[1;33m     \u001b[0mpredicted\u001b[0m\u001b[1;33m[\u001b[0m\u001b[1;36m0\u001b[0m\u001b[1;33m,\u001b[0m\u001b[1;36m19\u001b[0m\u001b[1;33m]\u001b[0m \u001b[1;33m=\u001b[0m \u001b[0mtemp_row\u001b[0m\u001b[1;33m[\u001b[0m\u001b[1;36m0\u001b[0m\u001b[1;33m,\u001b[0m \u001b[1;36m19\u001b[0m\u001b[1;33m,\u001b[0m \u001b[1;36m0\u001b[0m\u001b[1;33m]\u001b[0m\u001b[1;33m\u001b[0m\u001b[0m\n\u001b[0m\u001b[0;32m     20\u001b[0m     \u001b[0mpredicted\u001b[0m\u001b[1;33m[\u001b[0m\u001b[1;36m0\u001b[0m\u001b[1;33m,\u001b[0m\u001b[1;36m20\u001b[0m\u001b[1;33m]\u001b[0m \u001b[1;33m=\u001b[0m \u001b[0mtemp_row\u001b[0m\u001b[1;33m[\u001b[0m\u001b[1;36m0\u001b[0m\u001b[1;33m,\u001b[0m \u001b[1;36m20\u001b[0m\u001b[1;33m,\u001b[0m \u001b[1;36m0\u001b[0m\u001b[1;33m]\u001b[0m\u001b[1;33m\u001b[0m\u001b[0m\n\u001b[0;32m     21\u001b[0m     \u001b[0mpredicted\u001b[0m\u001b[1;33m[\u001b[0m\u001b[1;36m0\u001b[0m\u001b[1;33m,\u001b[0m\u001b[1;36m21\u001b[0m\u001b[1;33m]\u001b[0m \u001b[1;33m=\u001b[0m \u001b[0mtemp_row\u001b[0m\u001b[1;33m[\u001b[0m\u001b[1;36m0\u001b[0m\u001b[1;33m,\u001b[0m \u001b[1;36m21\u001b[0m\u001b[1;33m,\u001b[0m \u001b[1;36m0\u001b[0m\u001b[1;33m]\u001b[0m\u001b[1;33m\u001b[0m\u001b[0m\n",
      "\u001b[1;31mIndexError\u001b[0m: index 19 is out of bounds for axis 1 with size 19"
     ]
    }
   ],
   "source": [
    "temps = []\n",
    "temp_row = np.array(X_test[0:1,:,:]) \n",
    "for i in range(24):\n",
    "    predicted = model.predict(temp_row)\n",
    "    \n",
    "    predicted[0,7] = int(i==0 or i==1)\n",
    "    predicted[0,8] = int(i==2 or i==3)\n",
    "    predicted[0,9] = int(i==4 or i==5)\n",
    "    predicted[0,10] = int(i==6 or i==7)\n",
    "    predicted[0,11] = int(i==8 or i==9)\n",
    "    predicted[0,12] = int(i==10 or i==11)\n",
    "    predicted[0,13] = int(i==12 or i==13)\n",
    "    predicted[0,14] = int(i==14 or i==15)\n",
    "    predicted[0,15] = int(i==16 or i==17)\n",
    "    predicted[0,16] = int(i==18 or i==19)\n",
    "    predicted[0,17] = int(i==20 or i==21)\n",
    "    predicted[0,18] = int(i==22 or i==23)\n",
    "    \n",
    "    predicted[0,19] = temp_row[0, 19, 0]\n",
    "    predicted[0,20] = temp_row[0, 20, 0]\n",
    "    predicted[0,21] = temp_row[0, 21, 0]\n",
    "    predicted[0,22] = temp_row[0, 22, 0]\n",
    "    predicted[0,23] = temp_row[0, 23, 0]\n",
    "    predicted[0,24] = temp_row[0, 24, 0]\n",
    "    \n",
    "    predicted = np.expand_dims(predicted, axis=2)\n",
    "    temp_row = np.append(arr=temp_row, values=predicted, axis=2)\n",
    "    temp_row = temp_row[:,:,1:]\n",
    "print(temp_row.shape)\n",
    "\n",
    "\n",
    "plt.plot(np.squeeze(temp_row[:,1:2,:]))\n",
    "plt.ylabel('some numbers')\n",
    "plt.show()"
   ]
  },
  {
   "cell_type": "markdown",
   "metadata": {},
   "source": [
    "## "
   ]
  }
 ],
 "metadata": {
  "kernelspec": {
   "display_name": "Python 3",
   "language": "python",
   "name": "python3"
  },
  "language_info": {
   "codemirror_mode": {
    "name": "ipython",
    "version": 3
   },
   "file_extension": ".py",
   "mimetype": "text/x-python",
   "name": "python",
   "nbconvert_exporter": "python",
   "pygments_lexer": "ipython3",
   "version": "3.6.1"
  },
  "pycharm": {
   "stem_cell": {
    "cell_type": "raw",
    "metadata": {
     "collapsed": false
    },
    "source": []
   }
  }
 },
 "nbformat": 4,
 "nbformat_minor": 4
}
