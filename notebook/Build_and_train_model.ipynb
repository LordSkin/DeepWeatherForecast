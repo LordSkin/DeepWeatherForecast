{
 "cells": [
  {
   "cell_type": "markdown",
   "metadata": {},
   "source": [
    "## Parametry"
   ]
  },
  {
   "cell_type": "code",
   "execution_count": 21,
   "metadata": {},
   "outputs": [],
   "source": [
    "SERIES_LENGHT = 72\n",
    "VALUES_DATATYPE = 'float16'\n",
    "LEARNING_RATE = 0.03\n",
    "EPOCHS = 50\n",
    "BATCH_SIZE = 32"
   ]
  },
  {
   "cell_type": "markdown",
   "metadata": {},
   "source": [
    "## Wczytanie danych z pliku"
   ]
  },
  {
   "cell_type": "code",
   "execution_count": 22,
   "metadata": {
    "pycharm": {
     "is_executing": false
    }
   },
   "outputs": [
    {
     "name": "stdout",
     "output_type": "stream",
     "text": [
      "[[[-0.2517  -0.2258   0.2161  ...  0.       0.       0.     ]\n",
      "  [-0.2517  -0.2478   0.2386  ...  0.       0.       0.     ]\n",
      "  [-0.2517  -0.2698   0.1708  ...  0.       0.       0.     ]\n",
      "  ...\n",
      "  [ 5.336   -0.4893  -0.1232  ...  0.       0.       0.     ]\n",
      "  [ 0.1473  -0.555   -0.2815  ...  0.       0.       0.     ]\n",
      "  [-0.2517  -0.4233  -0.3042  ...  0.       0.       0.     ]]\n",
      "\n",
      " [[-0.2517  -0.3794  -0.5303  ...  0.       0.       0.     ]\n",
      "  [-0.2517  -0.4453  -0.7793  ...  0.       0.       0.     ]\n",
      "  [-0.2517  -0.577   -0.734   ...  0.       0.       0.     ]\n",
      "  ...\n",
      "  [-0.2517  -1.038   -1.299   ...  0.       0.       0.     ]\n",
      "  [-0.2517  -0.8843  -1.187   ...  0.       0.       0.     ]\n",
      "  [-0.05212 -0.621   -1.028   ...  0.       0.       0.     ]]\n",
      "\n",
      " [[ 1.943   -0.599   -0.03278 ...  0.       0.       0.     ]\n",
      "  [-0.2517  -0.577   -0.1232  ...  0.       0.       0.     ]\n",
      "  [-0.05212 -0.577   -0.1685  ...  0.       0.       0.     ]\n",
      "  ...\n",
      "  [-0.2517  -1.455   -1.458   ...  0.       0.       0.     ]\n",
      "  [-0.2517  -1.543   -1.254   ...  0.       0.       0.     ]\n",
      "  [-0.2517  -1.258   -1.187   ...  0.       0.       0.     ]]\n",
      "\n",
      " ...\n",
      "\n",
      " [[-0.05212 -0.775   -0.983   ...  0.       0.       1.     ]\n",
      "  [-0.2517  -0.775   -0.983   ...  0.       0.       1.     ]\n",
      "  [-0.2517  -0.731   -0.983   ...  0.       0.       1.     ]\n",
      "  ...\n",
      "  [-0.2517  -0.994   -1.503   ...  0.       0.       1.     ]\n",
      "  [-0.2517  -0.95    -1.367   ...  0.       0.       1.     ]\n",
      "  [-0.05212 -1.061   -0.666   ...  0.       0.       1.     ]]\n",
      "\n",
      " [[-0.2517  -1.895   -1.639   ...  0.       0.       1.     ]\n",
      "  [-0.2517  -1.96    -1.57    ...  0.       0.       1.     ]\n",
      "  [-0.2517  -1.938   -1.616   ...  0.       0.       1.     ]\n",
      "  ...\n",
      "  [-0.2517  -1.017   -1.661   ...  0.       0.       1.     ]\n",
      "  [-0.2517  -1.038   -1.345   ...  0.       0.       1.     ]\n",
      "  [-0.2517  -1.126   -1.458   ...  0.       0.       1.     ]]\n",
      "\n",
      " [[-0.2517  -1.126   -1.276   ...  0.       0.       1.     ]\n",
      "  [-0.2517  -1.126   -1.525   ...  0.       0.       1.     ]\n",
      "  [-0.2517  -1.697   -1.616   ...  0.       0.       1.     ]\n",
      "  ...\n",
      "  [-0.2517  -1.302   -1.752   ...  0.       0.       1.     ]\n",
      "  [-0.2517  -1.235   -1.594   ...  0.       0.       1.     ]\n",
      "  [-0.2517  -1.17    -1.639   ...  0.       0.       1.     ]]]\n",
      "(132581, 72, 37)\n"
     ]
    }
   ],
   "source": [
    "import numpy as np\n",
    "\n",
    "data = np.load(\"../resources/\" + \"data_%s_series_%d.npy\" % (VALUES_DATATYPE, SERIES_LENGHT))\n",
    "print(data)\n",
    "print(data.shape)"
   ]
  },
  {
   "cell_type": "markdown",
   "metadata": {},
   "source": [
    "## Wydzielenie zbiorów"
   ]
  },
  {
   "cell_type": "code",
   "execution_count": 23,
   "metadata": {
    "pycharm": {
     "is_executing": false
    }
   },
   "outputs": [
    {
     "name": "stdout",
     "output_type": "stream",
     "text": [
      "Dane treningowe: (99435, 37, 71)\n"
     ]
    }
   ],
   "source": [
    "from sklearn.model_selection import train_test_split\n",
    "\n",
    "X = np.swapaxes(data[:, :SERIES_LENGHT - 1, :],1,2)\n",
    "Y = np.swapaxes(data[:, SERIES_LENGHT - 1:, :],1,2)\n",
    "\n",
    "X_train, X_test, Y_train, Y_test = train_test_split(X, Y, random_state=0)\n",
    "print(\"Dane treningowe: \"+ str(X_train.shape))"
   ]
  },
  {
   "cell_type": "markdown",
   "metadata": {},
   "source": [
    "## Definicja sieci"
   ]
  },
  {
   "cell_type": "code",
   "execution_count": 24,
   "metadata": {
    "pycharm": {
     "is_executing": false
    }
   },
   "outputs": [],
   "source": [
    "from tensorflow.keras import Sequential\n",
    "from tensorflow.keras.layers import LSTM, Dense, Dropout\n",
    "from tensorflow.keras.optimizers import RMSprop\n",
    "from script.main.loss_functions import *\n",
    "\n",
    "model = Sequential()\n",
    "model.add(LSTM(units=256, activation=\"softmax\", return_sequences=True, input_shape=(37, SERIES_LENGHT - 1)))\n",
    "model.add(LSTM(units=128, activation=\"softmax\"))\n",
    "model.add(Dense(128, activation=\"softmax\"))\n",
    "model.add(Dense(19))\n",
    "model.compile(loss=mean_square_loss_func, optimizer=RMSprop(lr=LEARNING_RATE), metrics=['accuracy'])"
   ]
  },
  {
   "cell_type": "markdown",
   "metadata": {},
   "source": [
    "## Diagram sieci"
   ]
  },
  {
   "cell_type": "code",
   "execution_count": 25,
   "metadata": {},
   "outputs": [
    {
     "data": {
      "image/png": "[encoded data removed]",
      "text/plain": [
       "<IPython.core.display.Image object>"
      ]
     },
     "execution_count": 25,
     "metadata": {},
     "output_type": "execute_result"
    }
   ],
   "source": [
    "from tensorflow.keras.utils import plot_model\n",
    "\n",
    "plot_model(model, show_shapes=True)"
   ]
  },
  {
   "cell_type": "markdown",
   "metadata": {},
   "source": [
    "## Uczenie"
   ]
  },
  {
   "cell_type": "code",
   "execution_count": 26,
   "metadata": {
    "pycharm": {
     "is_executing": true
    }
   },
   "outputs": [
    {
     "name": "stdout",
     "output_type": "stream",
     "text": [
      "Train on 99435 samples\n",
      "Epoch 1/50\n",
      "99435/99435 - 129s - loss: 0.5292 - accuracy: 0.1947\n",
      "Epoch 2/50\n",
      "99435/99435 - 127s - loss: 0.5216 - accuracy: 0.1887\n",
      "Epoch 3/50\n",
      "99435/99435 - 126s - loss: 0.4355 - accuracy: 0.2133\n",
      "Epoch 4/50\n",
      "99435/99435 - 127s - loss: 0.4552 - accuracy: 0.1852\n",
      "Epoch 5/50\n",
      "99435/99435 - 126s - loss: 0.4454 - accuracy: 0.2057\n",
      "Epoch 6/50\n",
      "99435/99435 - 129s - loss: 0.4118 - accuracy: 0.2208\n",
      "Epoch 7/50\n",
      "99435/99435 - 127s - loss: 0.4015 - accuracy: 0.2268\n",
      "Epoch 8/50\n",
      "99435/99435 - 126s - loss: 0.3876 - accuracy: 0.2243\n",
      "Epoch 9/50\n",
      "99435/99435 - 129s - loss: 0.3724 - accuracy: 0.2187\n",
      "Epoch 10/50\n",
      "99435/99435 - 127s - loss: 0.3702 - accuracy: 0.2472\n",
      "Epoch 11/50\n",
      "99435/99435 - 130s - loss: 0.3677 - accuracy: 0.2259\n",
      "Epoch 12/50\n",
      "99435/99435 - 128s - loss: 0.3356 - accuracy: 0.2363\n",
      "Epoch 13/50\n",
      "99435/99435 - 128s - loss: 0.3511 - accuracy: 0.2581\n",
      "Epoch 14/50\n",
      "99435/99435 - 138s - loss: 0.3536 - accuracy: 0.2685\n",
      "Epoch 15/50\n",
      "99435/99435 - 161s - loss: 0.3668 - accuracy: 0.2564\n",
      "Epoch 16/50\n",
      "99435/99435 - 160s - loss: 0.3428 - accuracy: 0.2652\n",
      "Epoch 17/50\n",
      "99435/99435 - 137s - loss: 0.3475 - accuracy: 0.2670\n",
      "Epoch 18/50\n",
      "99435/99435 - 130s - loss: 0.3346 - accuracy: 0.2658\n",
      "Epoch 19/50\n",
      "99435/99435 - 128s - loss: 0.3335 - accuracy: 0.2797\n",
      "Epoch 20/50\n",
      "99435/99435 - 131s - loss: 0.3483 - accuracy: 0.2850\n",
      "Epoch 21/50\n",
      "99435/99435 - 129s - loss: 0.3166 - accuracy: 0.2918\n",
      "Epoch 22/50\n",
      "99435/99435 - 129s - loss: 0.3017 - accuracy: 0.3083\n",
      "Epoch 23/50\n",
      "99435/99435 - 128s - loss: 0.2900 - accuracy: 0.3211\n",
      "Epoch 24/50\n",
      "99435/99435 - 129s - loss: 0.3243 - accuracy: 0.3286\n",
      "Epoch 25/50\n",
      "99435/99435 - 129s - loss: 0.3036 - accuracy: 0.3406\n",
      "Epoch 26/50\n",
      "99435/99435 - 128s - loss: 0.2780 - accuracy: 0.3486\n",
      "Epoch 27/50\n",
      "99435/99435 - 130s - loss: 0.2619 - accuracy: 0.3555\n",
      "Epoch 28/50\n",
      "99435/99435 - 129s - loss: 0.2800 - accuracy: 0.3522\n",
      "Epoch 29/50\n",
      "99435/99435 - 127s - loss: 0.2776 - accuracy: 0.3592\n",
      "Epoch 30/50\n",
      "99435/99435 - 127s - loss: 0.2644 - accuracy: 0.3646\n",
      "Epoch 31/50\n",
      "99435/99435 - 129s - loss: 0.2602 - accuracy: 0.3553\n",
      "Epoch 32/50\n",
      "99435/99435 - 129s - loss: 0.2578 - accuracy: 0.3531\n",
      "Epoch 33/50\n",
      "99435/99435 - 129s - loss: 0.2600 - accuracy: 0.3519\n",
      "Epoch 34/50\n",
      "99435/99435 - 128s - loss: 0.2534 - accuracy: 0.3480\n",
      "Epoch 35/50\n",
      "99435/99435 - 129s - loss: 0.2561 - accuracy: 0.3502\n",
      "Epoch 36/50\n",
      "99435/99435 - 159s - loss: 0.2633 - accuracy: 0.3536\n",
      "Epoch 37/50\n",
      "99435/99435 - 162s - loss: 0.2413 - accuracy: 0.3720\n",
      "Epoch 38/50\n",
      "99435/99435 - 151s - loss: 0.2589 - accuracy: 0.3641\n",
      "Epoch 39/50\n",
      "99435/99435 - 157s - loss: 0.2706 - accuracy: 0.3583\n",
      "Epoch 40/50\n",
      "99435/99435 - 177s - loss: 0.2557 - accuracy: 0.3622\n",
      "Epoch 41/50\n",
      "99435/99435 - 376s - loss: 0.2483 - accuracy: 0.3629\n",
      "Epoch 42/50\n",
      "99435/99435 - 1518s - loss: 0.2554 - accuracy: 0.3803\n",
      "Epoch 43/50\n",
      "99435/99435 - 905s - loss: 0.2885 - accuracy: 0.3715\n",
      "Epoch 44/50\n",
      "99435/99435 - 129s - loss: 0.2504 - accuracy: 0.3868\n",
      "Epoch 45/50\n",
      "99435/99435 - 125s - loss: 0.2546 - accuracy: 0.3784\n",
      "Epoch 46/50\n",
      "99435/99435 - 127s - loss: 0.2628 - accuracy: 0.3811\n",
      "Epoch 47/50\n",
      "99435/99435 - 130s - loss: 0.2518 - accuracy: 0.3800\n",
      "Epoch 48/50\n",
      "99435/99435 - 132s - loss: 0.2540 - accuracy: 0.3782\n",
      "Epoch 49/50\n",
      "99435/99435 - 132s - loss: 0.2662 - accuracy: 0.3877\n",
      "Epoch 50/50\n",
      "99435/99435 - 133s - loss: 0.2635 - accuracy: 0.3898\n"
     ]
    },
    {
     "data": {
      "text/plain": [
       "<tensorflow.python.keras.callbacks.History at 0x1e78ea29e48>"
      ]
     },
     "execution_count": 26,
     "metadata": {},
     "output_type": "execute_result"
    }
   ],
   "source": [
    "model.fit(X_train,Y_train, epochs=EPOCHS, batch_size=BATCH_SIZE, verbose=2)"
   ]
  },
  {
   "cell_type": "markdown",
   "metadata": {},
   "source": [
    "## Zapis modelu od pliku"
   ]
  },
  {
   "cell_type": "code",
   "execution_count": 27,
   "metadata": {},
   "outputs": [],
   "source": [
    "model.save(\"../resources/trained_model.h5\", save_format='tf')"
   ]
  },
  {
   "cell_type": "markdown",
   "metadata": {},
   "source": [
    "## Zapis danych testowych do pliku"
   ]
  },
  {
   "cell_type": "code",
   "execution_count": 28,
   "metadata": {},
   "outputs": [],
   "source": [
    "np.save(\"../resources/test_data/X_test\", X_test)\n",
    "np.save(\"../resources/test_data/Y_test\", Y_test)"
   ]
  },
  {
   "cell_type": "markdown",
   "metadata": {},
   "source": [
    "## "
   ]
  }
 ],
 "metadata": {
  "kernelspec": {
   "display_name": "Python 3",
   "language": "python",
   "name": "python3"
  },
  "language_info": {
   "codemirror_mode": {
    "name": "ipython",
    "version": 3
   },
   "file_extension": ".py",
   "mimetype": "text/x-python",
   "name": "python",
   "nbconvert_exporter": "python",
   "pygments_lexer": "ipython3",
   "version": "3.6.1"
  },
  "pycharm": {
   "stem_cell": {
    "cell_type": "raw",
    "metadata": {
     "collapsed": false
    },
    "source": []
   }
  }
 },
 "nbformat": 4,
 "nbformat_minor": 4
}
