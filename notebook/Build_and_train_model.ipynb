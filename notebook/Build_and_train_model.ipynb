{
 "cells": [
  {
   "cell_type": "markdown",
   "metadata": {},
   "source": [
    "## Parametry"
   ]
  },
  {
   "cell_type": "code",
   "execution_count": 13,
   "metadata": {},
   "outputs": [],
   "source": [
    "SERIES_LENGHT = 72\n",
    "VALUES_DATATYPE = 'float16'\n",
    "LEARNING_RATE = 0.0001\n",
    "EPOCHS = 100\n",
    "BATCH_SIZE = 32"
   ]
  },
  {
   "cell_type": "markdown",
   "metadata": {},
   "source": [
    "## Wczytanie danych z pliku"
   ]
  },
  {
   "cell_type": "code",
   "execution_count": 14,
   "metadata": {
    "pycharm": {
     "is_executing": false
    }
   },
   "outputs": [
    {
     "name": "stdout",
     "output_type": "stream",
     "text": [
      "[[[-0.2517  -0.2258   0.2161  ...  0.       0.       0.     ]\n",
      "  [-0.2517  -0.2478   0.2386  ...  0.       0.       0.     ]\n",
      "  [-0.2517  -0.2698   0.1708  ...  0.       0.       0.     ]\n",
      "  ...\n",
      "  [ 5.336   -0.4893  -0.1232  ...  0.       0.       0.     ]\n",
      "  [ 0.1473  -0.555   -0.2815  ...  0.       0.       0.     ]\n",
      "  [-0.2517  -0.4233  -0.3042  ...  0.       0.       0.     ]]\n",
      "\n",
      " [[-0.2517  -0.2917   0.1029  ...  0.       0.       0.     ]\n",
      "  [-0.2517  -0.3357   0.01246 ...  0.       0.       0.     ]\n",
      "  [-0.2517  -0.3574  -0.01016 ...  0.       0.       0.     ]\n",
      "  ...\n",
      "  [-0.2517  -0.709   -1.028   ...  0.       0.       0.     ]\n",
      "  [-0.05212 -0.8623  -1.164   ...  0.       0.       0.     ]\n",
      "  [ 0.9453  -1.126   -1.096   ...  0.       0.       0.     ]]\n",
      "\n",
      " [[-0.2517  -0.4453  -0.7793  ...  0.       0.       0.     ]\n",
      "  [-0.2517  -0.577   -0.734   ...  0.       0.       0.     ]\n",
      "  [-0.2517  -0.643   -1.073   ...  0.       0.       0.     ]\n",
      "  ...\n",
      "  [-0.2517  -0.8843  -1.187   ...  0.       0.       0.     ]\n",
      "  [-0.05212 -0.621   -1.028   ...  0.       0.       0.     ]\n",
      "  [-0.2517  -0.753   -1.276   ...  0.       0.       0.     ]]\n",
      "\n",
      " ...\n",
      "\n",
      " [[-0.2517  -1.763   -1.616   ...  0.       0.       1.     ]\n",
      "  [-0.2517  -1.631   -1.594   ...  0.       0.       1.     ]\n",
      "  [-0.2517  -1.631   -1.525   ...  0.       0.       1.     ]\n",
      "  ...\n",
      "  [-0.2517  -1.148   -1.616   ...  0.       0.       1.     ]\n",
      "  [-0.2517  -1.279   -1.842   ...  0.       0.       1.     ]\n",
      "  [-0.2517  -1.279   -1.774   ...  0.       0.       1.     ]]\n",
      "\n",
      " [[-0.2517  -2.004   -1.955   ...  0.       0.       1.     ]\n",
      "  [-0.2517  -2.025   -2.113   ...  0.       0.       1.     ]\n",
      "  [-0.2517  -2.004   -1.955   ...  0.       0.       1.     ]\n",
      "  ...\n",
      "  [-0.2517  -1.126   -1.525   ...  0.       0.       1.     ]\n",
      "  [-0.2517  -1.126   -1.458   ...  0.       0.       1.     ]\n",
      "  [-0.2517  -1.126   -1.458   ...  0.       0.       1.     ]]\n",
      "\n",
      " [[-0.2517  -0.928   -0.8696  ...  0.       0.       1.     ]\n",
      "  [-0.2517  -0.972   -1.209   ...  0.       0.       1.     ]\n",
      "  [-0.2517  -0.95    -1.254   ...  0.       0.       1.     ]\n",
      "  ...\n",
      "  [-0.2517  -1.192   -1.616   ...  0.       0.       1.     ]\n",
      "  [ 0.1473  -1.478   -1.299   ...  0.       0.       1.     ]\n",
      "  [-0.2517  -1.587   -1.819   ...  0.       0.       1.     ]]]\n",
      "(246199, 72, 37)\n"
     ]
    }
   ],
   "source": [
    "import numpy as np\n",
    "\n",
    "data = np.load(\"../resources/\" + \"data_%s_series_%d.npy\" % (VALUES_DATATYPE, SERIES_LENGHT))\n",
    "print(data)\n",
    "print(data.shape)"
   ]
  },
  {
   "cell_type": "markdown",
   "metadata": {},
   "source": [
    "## Wydzielenie zbiorów"
   ]
  },
  {
   "cell_type": "code",
   "execution_count": 15,
   "metadata": {
    "pycharm": {
     "is_executing": false
    }
   },
   "outputs": [
    {
     "name": "stdout",
     "output_type": "stream",
     "text": [
      "Dane treningowe: (184649, 37, 71)\n"
     ]
    }
   ],
   "source": [
    "from sklearn.model_selection import train_test_split\n",
    "\n",
    "X = np.swapaxes(data[:, :SERIES_LENGHT - 1, :],1,2)\n",
    "Y = np.swapaxes(data[:, SERIES_LENGHT - 1:, :],1,2)\n",
    "\n",
    "X_train, X_test, Y_train, Y_test = train_test_split(X, Y, random_state=0)\n",
    "print(\"Dane treningowe: \"+ str(X_train.shape))"
   ]
  },
  {
   "cell_type": "markdown",
   "metadata": {},
   "source": [
    "## Definicja sieci"
   ]
  },
  {
   "cell_type": "code",
   "execution_count": 16,
   "metadata": {
    "pycharm": {
     "is_executing": false
    }
   },
   "outputs": [],
   "source": [
    "from tensorflow.keras import Sequential\n",
    "from tensorflow.keras.layers import LSTM, Dense, Dropout\n",
    "from tensorflow.keras.optimizers import *\n",
    "from script.main.loss_functions import *\n",
    "import tensorflow as tf\n",
    "\n",
    "model = Sequential()\n",
    "model.add(LSTM(units=512, activation=tf.keras.layers.LeakyReLU(alpha=0.3), return_sequences=True, input_shape=(37, SERIES_LENGHT - 1)))\n",
    "model.add(LSTM(units=512, activation=tf.keras.layers.LeakyReLU(alpha=0.3)))\n",
    "model.add(Dense(19))\n",
    "model.compile(loss=mean_proportional_loss_func, optimizer=Adam(lr=LEARNING_RATE), metrics=['accuracy'])"
   ]
  },
  {
   "cell_type": "markdown",
   "metadata": {},
   "source": [
    "## Diagram sieci"
   ]
  },
  {
   "cell_type": "code",
   "execution_count": 17,
   "metadata": {},
   "outputs": [
    {
     "data": {
      "image/png": "[encoded data removed]",
      "text/plain": [
       "<IPython.core.display.Image object>"
      ]
     },
     "execution_count": 17,
     "metadata": {},
     "output_type": "execute_result"
    }
   ],
   "source": [
    "from tensorflow.keras.utils import plot_model\n",
    "\n",
    "plot_model(model, show_shapes=True)"
   ]
  },
  {
   "cell_type": "markdown",
   "metadata": {},
   "source": [
    "## Uczenie"
   ]
  },
  {
   "cell_type": "code",
   "execution_count": 18,
   "metadata": {
    "pycharm": {
     "is_executing": true
    }
   },
   "outputs": [
    {
     "name": "stdout",
     "output_type": "stream",
     "text": [
      "Train on 184649 samples\n",
      "Epoch 1/100\n",
      "184649/184649 - 236s - loss: 0.4815 - accuracy: 0.1981\n",
      "Epoch 2/100\n",
      "184649/184649 - 234s - loss: 0.3985 - accuracy: 0.1999\n",
      "Epoch 3/100\n",
      "184649/184649 - 235s - loss: 0.3186 - accuracy: 0.2350\n",
      "Epoch 4/100\n",
      "184649/184649 - 235s - loss: 0.2769 - accuracy: 0.2827\n",
      "Epoch 5/100\n",
      "184649/184649 - 233s - loss: 0.2610 - accuracy: 0.3125\n",
      "Epoch 6/100\n",
      "184649/184649 - 234s - loss: 0.2586 - accuracy: 0.3094\n",
      "Epoch 7/100\n",
      "184649/184649 - 232s - loss: 0.2475 - accuracy: 0.3217\n",
      "Epoch 8/100\n",
      "184649/184649 - 233s - loss: 0.2351 - accuracy: 0.3750\n",
      "Epoch 9/100\n",
      "184649/184649 - 232s - loss: 0.2200 - accuracy: 0.4256\n",
      "Epoch 10/100\n",
      "184649/184649 - 236s - loss: 0.2125 - accuracy: 0.4409\n",
      "Epoch 11/100\n",
      "184649/184649 - 236s - loss: 0.2048 - accuracy: 0.4684\n",
      "Epoch 12/100\n",
      "184649/184649 - 235s - loss: 0.1951 - accuracy: 0.4859\n",
      "Epoch 13/100\n",
      "184649/184649 - 236s - loss: 0.1900 - accuracy: 0.4964\n",
      "Epoch 14/100\n",
      "184649/184649 - 235s - loss: 0.1816 - accuracy: 0.5197\n",
      "Epoch 15/100\n",
      "184649/184649 - 235s - loss: 0.1750 - accuracy: 0.5164\n",
      "Epoch 16/100\n",
      "184649/184649 - 231s - loss: 0.1672 - accuracy: 0.5346\n",
      "Epoch 17/100\n",
      "184649/184649 - 232s - loss: 0.1628 - accuracy: 0.5413\n",
      "Epoch 18/100\n",
      "184649/184649 - 234s - loss: 0.1580 - accuracy: 0.5658\n",
      "Epoch 19/100\n",
      "184649/184649 - 242s - loss: 0.1544 - accuracy: 0.5646\n",
      "Epoch 20/100\n",
      "184649/184649 - 245s - loss: 0.1549 - accuracy: 0.5683\n",
      "Epoch 21/100\n",
      "184649/184649 - 240s - loss: 0.1498 - accuracy: 0.5804\n",
      "Epoch 22/100\n",
      "184649/184649 - 266s - loss: 0.1477 - accuracy: 0.5801\n",
      "Epoch 23/100\n",
      "184649/184649 - 369s - loss: 0.1445 - accuracy: 0.5926\n",
      "Epoch 24/100\n",
      "184649/184649 - 248s - loss: 0.1434 - accuracy: 0.6044\n",
      "Epoch 25/100\n",
      "184649/184649 - 234s - loss: 0.1410 - accuracy: 0.6063\n",
      "Epoch 26/100\n",
      "184649/184649 - 233s - loss: 0.1392 - accuracy: 0.6065\n",
      "Epoch 27/100\n",
      "184649/184649 - 307s - loss: 0.1387 - accuracy: 0.6044\n",
      "Epoch 28/100\n",
      "184649/184649 - 343s - loss: 0.1347 - accuracy: 0.6166\n",
      "Epoch 29/100\n",
      "184649/184649 - 242s - loss: 0.1370 - accuracy: 0.6135\n",
      "Epoch 30/100\n",
      "184649/184649 - 233s - loss: 0.1350 - accuracy: 0.6199\n",
      "Epoch 31/100\n",
      "184649/184649 - 233s - loss: 0.1342 - accuracy: 0.6259\n",
      "Epoch 32/100\n",
      "184649/184649 - 232s - loss: 0.1335 - accuracy: 0.6207\n",
      "Epoch 33/100\n",
      "184649/184649 - 232s - loss: 0.1343 - accuracy: 0.6244\n",
      "Epoch 34/100\n",
      "184649/184649 - 233s - loss: 0.1320 - accuracy: 0.6242\n",
      "Epoch 35/100\n",
      "184649/184649 - 233s - loss: 0.1309 - accuracy: 0.6276\n",
      "Epoch 36/100\n",
      "184649/184649 - 233s - loss: 0.1335 - accuracy: 0.6258\n",
      "Epoch 37/100\n",
      "184649/184649 - 235s - loss: 0.1316 - accuracy: 0.6306\n",
      "Epoch 38/100\n",
      "184649/184649 - 230s - loss: 0.1311 - accuracy: 0.6205\n",
      "Epoch 39/100\n",
      "184649/184649 - 236s - loss: 0.1299 - accuracy: 0.6297\n",
      "Epoch 40/100\n",
      "184649/184649 - 233s - loss: 0.1268 - accuracy: 0.6200\n",
      "Epoch 41/100\n",
      "184649/184649 - 234s - loss: 0.1298 - accuracy: 0.6377\n",
      "Epoch 42/100\n",
      "184649/184649 - 234s - loss: 0.1267 - accuracy: 0.6374\n",
      "Epoch 43/100\n",
      "184649/184649 - 233s - loss: 0.1267 - accuracy: 0.6297\n",
      "Epoch 44/100\n",
      "184649/184649 - 232s - loss: 0.1272 - accuracy: 0.6279\n",
      "Epoch 45/100\n",
      "184649/184649 - 233s - loss: 0.1237 - accuracy: 0.6268\n",
      "Epoch 46/100\n",
      "184649/184649 - 232s - loss: 0.1258 - accuracy: 0.6354\n",
      "Epoch 47/100\n",
      "184649/184649 - 232s - loss: 0.1278 - accuracy: 0.6434\n",
      "Epoch 48/100\n",
      "184649/184649 - 234s - loss: 0.1250 - accuracy: 0.6384\n",
      "Epoch 49/100\n",
      "184649/184649 - 234s - loss: 0.1268 - accuracy: 0.6363\n",
      "Epoch 50/100\n",
      "184649/184649 - 233s - loss: 0.1225 - accuracy: 0.6457\n",
      "Epoch 51/100\n",
      "184649/184649 - 235s - loss: 0.1246 - accuracy: 0.6429\n",
      "Epoch 52/100\n",
      "184649/184649 - 237s - loss: 0.1235 - accuracy: 0.6441\n",
      "Epoch 53/100\n",
      "184649/184649 - 238s - loss: 0.1212 - accuracy: 0.6489\n",
      "Epoch 54/100\n",
      "184649/184649 - 232s - loss: 0.1224 - accuracy: 0.6507\n",
      "Epoch 55/100\n",
      "184649/184649 - 233s - loss: 0.1236 - accuracy: 0.6398\n",
      "Epoch 56/100\n",
      "184649/184649 - 233s - loss: 0.1231 - accuracy: 0.6389\n",
      "Epoch 57/100\n",
      "184649/184649 - 231s - loss: 0.1237 - accuracy: 0.6448\n",
      "Epoch 58/100\n",
      "184649/184649 - 231s - loss: 0.1226 - accuracy: 0.6439\n",
      "Epoch 59/100\n",
      "184649/184649 - 233s - loss: 0.1211 - accuracy: 0.6422\n",
      "Epoch 60/100\n",
      "184649/184649 - 233s - loss: 0.1212 - accuracy: 0.6438\n",
      "Epoch 61/100\n",
      "184649/184649 - 231s - loss: 0.1202 - accuracy: 0.6444\n",
      "Epoch 62/100\n",
      "184649/184649 - 230s - loss: 0.1217 - accuracy: 0.6502\n",
      "Epoch 63/100\n",
      "184649/184649 - 231s - loss: 0.1203 - accuracy: 0.6447\n",
      "Epoch 64/100\n",
      "184649/184649 - 232s - loss: 0.1201 - accuracy: 0.6515\n",
      "Epoch 65/100\n",
      "184649/184649 - 232s - loss: 0.1219 - accuracy: 0.6546\n",
      "Epoch 66/100\n",
      "184649/184649 - 231s - loss: 0.1201 - accuracy: 0.6541\n",
      "Epoch 67/100\n",
      "184649/184649 - 232s - loss: 0.1208 - accuracy: 0.6564\n",
      "Epoch 68/100\n",
      "184649/184649 - 233s - loss: 0.1197 - accuracy: 0.6568\n",
      "Epoch 69/100\n",
      "184649/184649 - 234s - loss: 0.1189 - accuracy: 0.6612\n",
      "Epoch 70/100\n",
      "184649/184649 - 230s - loss: 0.1203 - accuracy: 0.6591\n",
      "Epoch 71/100\n",
      "184649/184649 - 230s - loss: 0.1189 - accuracy: 0.6563\n",
      "Epoch 72/100\n",
      "184649/184649 - 232s - loss: 0.1173 - accuracy: 0.6579\n",
      "Epoch 73/100\n",
      "184649/184649 - 229s - loss: 0.1181 - accuracy: 0.6592\n",
      "Epoch 74/100\n",
      "184649/184649 - 229s - loss: 0.1181 - accuracy: 0.6603\n",
      "Epoch 75/100\n",
      "184649/184649 - 227s - loss: 0.1184 - accuracy: 0.6605\n",
      "Epoch 76/100\n",
      "184649/184649 - 229s - loss: 0.1177 - accuracy: 0.6656\n",
      "Epoch 77/100\n",
      "184649/184649 - 229s - loss: 0.1177 - accuracy: 0.6591\n",
      "Epoch 78/100\n",
      "184649/184649 - 230s - loss: 0.1181 - accuracy: 0.6631\n",
      "Epoch 79/100\n",
      "184649/184649 - 229s - loss: 0.1199 - accuracy: 0.6657\n",
      "Epoch 80/100\n",
      "184649/184649 - 231s - loss: 0.1187 - accuracy: 0.6692\n",
      "Epoch 81/100\n",
      "184649/184649 - 230s - loss: 0.1166 - accuracy: 0.6603\n",
      "Epoch 82/100\n",
      "184649/184649 - 230s - loss: 0.1182 - accuracy: 0.6649\n",
      "Epoch 83/100\n",
      "184649/184649 - 230s - loss: 0.1164 - accuracy: 0.6671\n",
      "Epoch 84/100\n",
      "184649/184649 - 230s - loss: 0.1166 - accuracy: 0.6682\n",
      "Epoch 85/100\n",
      "184649/184649 - 236s - loss: 0.1178 - accuracy: 0.6712\n",
      "Epoch 86/100\n",
      "184649/184649 - 234s - loss: 0.1157 - accuracy: 0.6573\n",
      "Epoch 87/100\n",
      "184649/184649 - 234s - loss: 0.1175 - accuracy: 0.6535\n",
      "Epoch 88/100\n",
      "184649/184649 - 233s - loss: 0.1172 - accuracy: 0.6538\n",
      "Epoch 89/100\n",
      "184649/184649 - 230s - loss: 0.1171 - accuracy: 0.6580\n",
      "Epoch 90/100\n",
      "184649/184649 - 233s - loss: 0.1161 - accuracy: 0.6660\n",
      "Epoch 91/100\n",
      "184649/184649 - 233s - loss: 0.1153 - accuracy: 0.6613\n",
      "Epoch 92/100\n",
      "184649/184649 - 233s - loss: 0.1169 - accuracy: 0.6675\n",
      "Epoch 93/100\n",
      "184649/184649 - 229s - loss: 0.1153 - accuracy: 0.6684\n",
      "Epoch 94/100\n",
      "184649/184649 - 228s - loss: 0.1163 - accuracy: 0.6718\n",
      "Epoch 95/100\n",
      "184649/184649 - 230s - loss: 0.1160 - accuracy: 0.6689\n",
      "Epoch 96/100\n",
      "184649/184649 - 230s - loss: 0.1168 - accuracy: 0.6760\n",
      "Epoch 97/100\n",
      "184649/184649 - 230s - loss: 0.1159 - accuracy: 0.6708\n",
      "Epoch 98/100\n",
      "184649/184649 - 229s - loss: 0.1153 - accuracy: 0.6723\n",
      "Epoch 99/100\n",
      "184649/184649 - 229s - loss: 0.1142 - accuracy: 0.6743\n",
      "Epoch 100/100\n",
      "184649/184649 - 230s - loss: 0.1148 - accuracy: 0.6701\n"
     ]
    },
    {
     "data": {
      "text/plain": [
       "<tensorflow.python.keras.callbacks.History at 0x2373df85dd8>"
      ]
     },
     "execution_count": 18,
     "metadata": {},
     "output_type": "execute_result"
    }
   ],
   "source": [
    "model.fit(X_train,Y_train, epochs=EPOCHS, batch_size=BATCH_SIZE, verbose=2)\n"
   ]
  },
  {
   "cell_type": "markdown",
   "metadata": {},
   "source": [
    "## Zapis modelu od pliku"
   ]
  },
  {
   "cell_type": "code",
   "execution_count": 19,
   "metadata": {},
   "outputs": [],
   "source": [
    "model.save(\"../resources/trained_model.h5\", save_format='tf')"
   ]
  },
  {
   "cell_type": "markdown",
   "metadata": {},
   "source": [
    "## Zapis danych testowych do pliku"
   ]
  },
  {
   "cell_type": "code",
   "execution_count": 20,
   "metadata": {},
   "outputs": [],
   "source": [
    "np.save(\"../resources/test_data/X_test\", X_test)\n",
    "np.save(\"../resources/test_data/Y_test\", Y_test)"
   ]
  },
  {
   "cell_type": "markdown",
   "metadata": {},
   "source": [
    "## "
   ]
  }
 ],
 "metadata": {
  "kernelspec": {
   "display_name": "Python 3",
   "language": "python",
   "name": "python3"
  },
  "language_info": {
   "codemirror_mode": {
    "name": "ipython",
    "version": 3
   },
   "file_extension": ".py",
   "mimetype": "text/x-python",
   "name": "python",
   "nbconvert_exporter": "python",
   "pygments_lexer": "ipython3",
   "version": "3.6.1"
  },
  "pycharm": {
   "stem_cell": {
    "cell_type": "raw",
    "metadata": {
     "collapsed": false
    },
    "source": []
   }
  }
 },
 "nbformat": 4,
 "nbformat_minor": 4
}
