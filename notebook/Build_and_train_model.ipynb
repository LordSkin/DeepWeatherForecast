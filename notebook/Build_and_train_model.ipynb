{
 "cells": [
  {
   "cell_type": "markdown",
   "metadata": {},
   "source": [
    "## Parametry"
   ]
  },
  {
   "cell_type": "code",
   "execution_count": 1,
   "metadata": {},
   "outputs": [],
   "source": [
    "SERIES_LENGHT = 72\n",
    "VALUES_DATATYPE = 'float32'\n",
    "LEARNING_RATE = 0.00035\n",
    "EPOCHS = 10\n",
    "BATCH_SIZE = 16\n",
    "COMPRESSION = 17"
   ]
  },
  {
   "cell_type": "markdown",
   "metadata": {},
   "source": [
    "## Wczytanie danych z pliku"
   ]
  },
  {
   "cell_type": "code",
   "execution_count": 2,
   "metadata": {
    "pycharm": {
     "is_executing": false
    }
   },
   "outputs": [
    {
     "name": "stdout",
     "output_type": "stream",
     "text": [
      "[[[0.         0.53610504 0.7925824  ... 0.         0.         0.        ]\n",
      "  [0.         0.53391683 0.7925824  ... 0.         0.         0.        ]\n",
      "  [0.         0.5317287  0.78983516 ... 0.         0.         0.        ]\n",
      "  ...\n",
      "  [0.07291666 0.5098468  0.77472526 ... 0.         0.         0.        ]\n",
      "  [0.00520833 0.50328225 0.76785713 ... 0.         0.         0.        ]\n",
      "  [0.         0.51641136 0.771978   ... 0.         0.         0.        ]]\n",
      "\n",
      " [[0.         0.487965   0.7431319  ... 0.         0.         0.        ]\n",
      "  [0.         0.48358864 0.7431319  ... 0.         0.         0.        ]\n",
      "  [0.         0.48358864 0.74450547 ... 0.         0.         0.        ]\n",
      "  ...\n",
      "  [0.         0.41794312 0.71428573 ... 0.         0.         0.        ]\n",
      "  [0.03125    0.40700218 0.71016484 ... 0.         0.         0.        ]\n",
      "  [0.         0.44420132 0.7239011  ... 0.         0.         0.        ]]\n",
      "\n",
      " [[0.         0.5010941  0.76373625 ... 0.         0.         0.        ]\n",
      "  [0.         0.50328225 0.76373625 ... 0.         0.         0.        ]\n",
      "  [0.         0.50328225 0.76236266 ... 0.         0.         0.        ]\n",
      "  ...\n",
      "  [0.0234375  0.5251641  0.7870879  ... 0.         0.         0.        ]\n",
      "  [0.01302083 0.53829324 0.79395604 ... 0.         0.         0.        ]\n",
      "  [0.00520833 0.53391683 0.7912088  ... 0.         0.         0.        ]]\n",
      "\n",
      " ...\n",
      "\n",
      " [[0.0078125  0.45295405 0.73351645 ... 0.         0.         1.        ]\n",
      "  [0.         0.45514223 0.73626375 ... 0.         0.         1.        ]\n",
      "  [0.01041667 0.4463895  0.7293956  ... 0.         0.         1.        ]\n",
      "  ...\n",
      "  [0.00260417 0.4310722  0.7197802  ... 0.         0.         1.        ]\n",
      "  [0.0078125  0.42888403 0.7197802  ... 0.         0.         1.        ]\n",
      "  [0.         0.43326038 0.7197802  ... 0.         0.         1.        ]]\n",
      "\n",
      " [[0.         0.42669585 0.7239011  ... 0.         0.         1.        ]\n",
      "  [0.         0.4157549  0.71703297 ... 0.         0.         1.        ]\n",
      "  [0.         0.38512036 0.69917583 ... 0.         0.         1.        ]\n",
      "  ...\n",
      "  [0.         0.46608314 0.728022   ... 0.         0.         1.        ]\n",
      "  [0.         0.46608314 0.72664833 ... 0.         0.         1.        ]\n",
      "  [0.         0.46389496 0.72664833 ... 0.         0.         1.        ]]\n",
      "\n",
      " [[0.         0.39606127 0.69917583 ... 0.         0.         1.        ]\n",
      "  [0.         0.4463895  0.7239011  ... 0.         0.         1.        ]\n",
      "  [0.         0.4463895  0.7184066  ... 0.         0.         1.        ]\n",
      "  ...\n",
      "  [0.         0.4310722  0.7074176  ... 0.         0.         1.        ]\n",
      "  [0.         0.42888403 0.7074176  ... 0.         0.         1.        ]\n",
      "  [0.         0.4354486  0.7129121  ... 0.         0.         1.        ]]]\n",
      "(101392, 72, 55)\n"
     ]
    }
   ],
   "source": [
    "import numpy as np\n",
    "\n",
    "data = np.load(\"../resources/\" + \"data_%s_series_%d_compression_%d_minmax.npy\" % (VALUES_DATATYPE, SERIES_LENGHT, COMPRESSION))\n",
    "print(data)\n",
    "print(data.shape)"
   ]
  },
  {
   "cell_type": "markdown",
   "metadata": {},
   "source": [
    "## Wydzielenie zbiorów"
   ]
  },
  {
   "cell_type": "code",
   "execution_count": 3,
   "metadata": {
    "pycharm": {
     "is_executing": false
    }
   },
   "outputs": [
    {
     "name": "stdout",
     "output_type": "stream",
     "text": [
      "Dane treningowe: (76044, 71, 55)\n"
     ]
    }
   ],
   "source": [
    "from sklearn.model_selection import train_test_split\n",
    "\n",
    "X = data[:, :SERIES_LENGHT - 1, :]\n",
    "Y = data[:, SERIES_LENGHT - 1, :]\n",
    "\n",
    "X_train, X_test, Y_train, Y_test = train_test_split(X, Y, random_state=0)\n",
    "print(\"Dane treningowe: \"+ str(X_train.shape))"
   ]
  },
  {
   "cell_type": "markdown",
   "metadata": {},
   "source": [
    "## Definicja sieci"
   ]
  },
  {
   "cell_type": "code",
   "execution_count": 4,
   "metadata": {
    "pycharm": {
     "is_executing": false
    }
   },
   "outputs": [
    {
     "name": "stderr",
     "output_type": "stream",
     "text": [
      "Using TensorFlow backend.\n"
     ]
    }
   ],
   "source": [
    "from tensorflow.keras import Sequential\n",
    "from tensorflow.keras.layers import LSTM, Dense, Dropout\n",
    "from tensorflow.keras.optimizers import *\n",
    "from script.main.loss_functions import *\n",
    "import tensorflow as tf\n",
    "\n",
    "model = Sequential()\n",
    "model.add(LSTM(units=55, activation='tanh', return_sequences=True, input_shape=(SERIES_LENGHT - 1,55)))\n",
    "model.add(LSTM(units=55, activation='tanh'))\n",
    "model.add(Dense(19))\n",
    "model.compile(loss=mean_proportional_loss_func, optimizer=Adam(lr=LEARNING_RATE, beta_1=0.9), metrics=['accuracy'])"
   ]
  },
  {
   "cell_type": "markdown",
   "metadata": {},
   "source": [
    "## Diagram sieci"
   ]
  },
  {
   "cell_type": "code",
   "execution_count": 5,
   "metadata": {},
   "outputs": [
    {
     "data": {
      "image/png": "[encoded data removed]",
      "text/plain": [
       "<IPython.core.display.Image object>"
      ]
     },
     "execution_count": 5,
     "metadata": {},
     "output_type": "execute_result"
    }
   ],
   "source": [
    "from tensorflow.keras.utils import plot_model\n",
    "\n",
    "plot_model(model, show_shapes=True)"
   ]
  },
  {
   "cell_type": "markdown",
   "metadata": {},
   "source": [
    "## Uczenie"
   ]
  },
  {
   "cell_type": "code",
   "execution_count": 6,
   "metadata": {
    "pycharm": {
     "is_executing": true
    },
    "scrolled": true
   },
   "outputs": [
    {
     "name": "stdout",
     "output_type": "stream",
     "text": [
      "Train on 76044 samples, validate on 25348 samples\n",
      "Epoch 1/10\n",
      "| progress:   0.100000 |\n",
      "| loss:   0.053767 |\n",
      "| val_loss:   0.044004 |\n",
      "76044/76044 - 39s - loss: 0.0538 - accuracy: 0.4539 - val_loss: 0.0440 - val_accuracy: 0.5254\n",
      "Epoch 2/10\n",
      "| progress:   0.011951 |\n",
      "| loss:   0.041816 |\n",
      "| val_loss:   0.040573 |\n",
      "76044/76044 - 35s - loss: 0.0418 - accuracy: 0.5268 - val_loss: 0.0406 - val_accuracy: 0.5283\n",
      "Epoch 3/10\n",
      "| progress:   0.001829 |\n",
      "| loss:   0.039987 |\n",
      "| val_loss:   0.039629 |\n",
      "76044/76044 - 37s - loss: 0.0400 - accuracy: 0.5277 - val_loss: 0.0396 - val_accuracy: 0.5282\n",
      "Epoch 4/10\n",
      "| progress:   0.001212 |\n",
      "| loss:   0.038776 |\n",
      "| val_loss:   0.037931 |\n",
      "76044/76044 - 52s - loss: 0.0388 - accuracy: 0.5341 - val_loss: 0.0379 - val_accuracy: 0.5564\n",
      "Epoch 5/10\n",
      "| progress:   0.001699 |\n",
      "| loss:   0.037077 |\n",
      "| val_loss:   0.036697 |\n",
      "76044/76044 - 45s - loss: 0.0371 - accuracy: 0.5709 - val_loss: 0.0367 - val_accuracy: 0.5949\n",
      "Epoch 6/10\n",
      "| progress:   0.000901 |\n",
      "| loss:   0.036175 |\n",
      "| val_loss:   0.036380 |\n",
      "76044/76044 - 35s - loss: 0.0362 - accuracy: 0.6016 - val_loss: 0.0364 - val_accuracy: 0.6028\n",
      "Epoch 7/10\n",
      "| progress:   0.000193 |\n",
      "| loss:   0.035982 |\n",
      "| val_loss:   0.036228 |\n",
      "76044/76044 - 35s - loss: 0.0360 - accuracy: 0.6078 - val_loss: 0.0362 - val_accuracy: 0.6146\n",
      "Epoch 8/10\n",
      "| progress:   0.000155 |\n",
      "| loss:   0.035827 |\n",
      "| val_loss:   0.036075 |\n",
      "76044/76044 - 35s - loss: 0.0358 - accuracy: 0.6129 - val_loss: 0.0361 - val_accuracy: 0.6122\n",
      "Epoch 9/10\n",
      "| progress:   0.000108 |\n",
      "| loss:   0.035718 |\n",
      "| val_loss:   0.035956 |\n",
      "76044/76044 - 33s - loss: 0.0357 - accuracy: 0.6131 - val_loss: 0.0360 - val_accuracy: 0.6114\n",
      "Epoch 10/10\n",
      "| progress:   0.000087 |\n",
      "| loss:   0.035632 |\n",
      "| val_loss:   0.035966 |\n",
      "76044/76044 - 34s - loss: 0.0356 - accuracy: 0.6137 - val_loss: 0.0360 - val_accuracy: 0.6154\n",
      "This run of Deep Weather ran for 0:06:21 and logs are available locally at: C:\\Users\\Mao Zedong\\.hyperdash\\logs\\deep-weather\\deep-weather_2020-06-25t00-50-22-474273.log\n"
     ]
    },
    {
     "data": {
      "text/plain": [
       "<tensorflow.python.keras.callbacks.History at 0x1aba73d5e48>"
      ]
     },
     "execution_count": 6,
     "metadata": {},
     "output_type": "execute_result"
    }
   ],
   "source": [
    "from script.main.callback.hyperdash_callback import HyperdashCallback\n",
    "my_callbacks = [\n",
    "    tf.keras.callbacks.TensorBoard(log_dir='.\\logs', histogram_freq=1),\n",
    "    HyperdashCallback(),\n",
    "    tf.keras.callbacks.ReduceLROnPlateau(monitor='val_loss', factor=0.5, patience=5)\n",
    "]\n",
    " \n",
    "model.fit(X_train,Y_train, epochs=EPOCHS, batch_size=BATCH_SIZE, verbose=2, callbacks=my_callbacks, validation_data=(X_test, Y_test))\n",
    "  "
   ]
  },
  {
   "cell_type": "markdown",
   "metadata": {},
   "source": [
    "## Zapis modelu od pliku"
   ]
  },
  {
   "cell_type": "code",
   "execution_count": 7,
   "metadata": {},
   "outputs": [],
   "source": [
    "model.save(\"../resources/trained_model_type2.h5\", save_format='tf')"
   ]
  },
  {
   "cell_type": "markdown",
   "metadata": {},
   "source": [
    "## Zapis danych testowych do pliku"
   ]
  },
  {
   "cell_type": "code",
   "execution_count": 8,
   "metadata": {},
   "outputs": [],
   "source": [
    "np.save(\"../resources/test_data/X_test\", X_test)\n",
    "np.save(\"../resources/test_data/Y_test\", Y_test)"
   ]
  },
  {
   "cell_type": "markdown",
   "metadata": {},
   "source": [
    "###### "
   ]
  },
  {
   "cell_type": "code",
   "execution_count": null,
   "metadata": {},
   "outputs": [],
   "source": []
  }
 ],
 "metadata": {
  "kernelspec": {
   "display_name": "Python 3",
   "language": "python",
   "name": "python3"
  },
  "language_info": {
   "codemirror_mode": {
    "name": "ipython",
    "version": 3
   },
   "file_extension": ".py",
   "mimetype": "text/x-python",
   "name": "python",
   "nbconvert_exporter": "python",
   "pygments_lexer": "ipython3",
   "version": "3.6.1"
  },
  "pycharm": {
   "stem_cell": {
    "cell_type": "raw",
    "metadata": {
     "collapsed": false
    },
    "source": []
   }
  }
 },
 "nbformat": 4,
 "nbformat_minor": 4
}
