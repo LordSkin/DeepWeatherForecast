{
 "cells": [
  {
   "cell_type": "markdown",
   "metadata": {},
   "source": [
    "## Parametry"
   ]
  },
  {
   "cell_type": "code",
   "execution_count": 1,
   "metadata": {},
   "outputs": [],
   "source": [
    "SERIES_LENGHT = 48\n",
    "VALUES_DATATYPE = 'float16'\n",
    "LEARNING_RATE = 0.0006\n",
    "EPOCHS = 2\n",
    "BATCH_SIZE = 32"
   ]
  },
  {
   "cell_type": "markdown",
   "metadata": {},
   "source": [
    "## Wczytanie danych z pliku"
   ]
  },
  {
   "cell_type": "code",
   "execution_count": 2,
   "metadata": {
    "pycharm": {
     "is_executing": false
    }
   },
   "outputs": [
    {
     "name": "stdout",
     "output_type": "stream",
     "text": [
      "[[[-0.2517  -0.2258   0.9707  ...  0.       0.       0.     ]\n",
      "  [-0.2517  -0.2478   1.058   ...  0.       0.       0.     ]\n",
      "  [-0.2517  -0.2698   0.9707  ...  0.       0.       0.     ]\n",
      "  ...\n",
      "  [-0.2517  -0.621   -0.06494 ...  0.       0.       0.     ]\n",
      "  [-0.2517  -0.709    0.1077  ...  0.       0.       0.     ]\n",
      "  [-0.2517  -0.753    0.0214  ...  0.       0.       0.     ]]\n",
      "\n",
      " [[-0.2517  -0.2478   1.058   ...  0.       0.       0.     ]\n",
      "  [-0.2517  -0.2698   0.9707  ...  0.       0.       0.     ]\n",
      "  [-0.2517  -0.2478   1.058   ...  0.       0.       0.     ]\n",
      "  ...\n",
      "  [-0.2517  -0.709    0.1077  ...  0.       0.       0.     ]\n",
      "  [-0.2517  -0.753    0.0214  ...  0.       0.       0.     ]\n",
      "  [-0.2517  -0.577    0.1941  ...  0.       0.       0.     ]]\n",
      "\n",
      " [[-0.2517  -0.2698   0.9707  ...  0.       0.       0.     ]\n",
      "  [-0.2517  -0.2478   1.058   ...  0.       0.       0.     ]\n",
      "  [-0.2517  -0.2478   0.9707  ...  0.       0.       0.     ]\n",
      "  ...\n",
      "  [-0.2517  -0.753    0.0214  ...  0.       0.       0.     ]\n",
      "  [-0.2517  -0.577    0.1941  ...  0.       0.       0.     ]\n",
      "  [-0.2517  -0.511   -0.4102  ...  0.       0.       0.     ]]\n",
      "\n",
      " ...\n",
      "\n",
      " [[-0.05212 -1.279    0.1077  ...  0.       0.       0.     ]\n",
      "  [ 0.347   -1.302    0.2803  ...  0.       0.       0.     ]\n",
      "  [-0.2517  -1.258    0.0214  ...  0.       0.       0.     ]\n",
      "  ...\n",
      "  [-0.2517  -1.279   -0.669   ...  0.       0.       0.     ]\n",
      "  [-0.2517  -1.192   -0.928   ...  0.       0.       0.     ]\n",
      "  [ 0.1473  -1.478    0.3667  ...  0.       0.       0.     ]]\n",
      "\n",
      " [[ 0.347   -1.302    0.2803  ...  0.       0.       0.     ]\n",
      "  [-0.2517  -1.258    0.0214  ...  0.       0.       0.     ]\n",
      "  [-0.2517  -1.279   -0.1512  ...  0.       0.       0.     ]\n",
      "  ...\n",
      "  [-0.2517  -1.192   -0.928   ...  0.       0.       0.     ]\n",
      "  [ 0.1473  -1.478    0.3667  ...  0.       0.       0.     ]\n",
      "  [-0.2517  -1.587   -0.583   ...  0.       0.       0.     ]]\n",
      "\n",
      " [[-0.2517  -1.258    0.0214  ...  0.       0.       0.     ]\n",
      "  [-0.2517  -1.279   -0.1512  ...  0.       0.       0.     ]\n",
      "  [-0.2517  -1.1045  -0.7554  ...  0.       0.       0.     ]\n",
      "  ...\n",
      "  [ 0.1473  -1.478    0.3667  ...  0.       0.       0.     ]\n",
      "  [-0.2517  -1.587   -0.583   ...  0.       0.       0.     ]\n",
      "  [-0.2517  -1.873    0.453   ...  0.       0.       0.     ]]]\n",
      "(1724414, 48, 35)\n"
     ]
    }
   ],
   "source": [
    "import numpy as np\n",
    "\n",
    "data = np.load(\"../resources/\" + \"data_%s_series_%d.npy\" % (VALUES_DATATYPE, SERIES_LENGHT))\n",
    "print(data)\n",
    "print(data.shape)"
   ]
  },
  {
   "cell_type": "markdown",
   "metadata": {},
   "source": [
    "## Wydzielenie zbiorów"
   ]
  },
  {
   "cell_type": "code",
   "execution_count": 4,
   "metadata": {
    "pycharm": {
     "is_executing": false
    }
   },
   "outputs": [
    {
     "name": "stdout",
     "output_type": "stream",
     "text": [
      "Dane treningowe: (1293310, 35, 47)\n"
     ]
    }
   ],
   "source": [
    "from sklearn.model_selection import train_test_split\n",
    "\n",
    "X = np.swapaxes(data[:, :SERIES_LENGHT - 1, :],1,2)\n",
    "Y = np.swapaxes(data[:, SERIES_LENGHT - 1:, :],1,2)\n",
    "\n",
    "X_train, X_test, Y_train, Y_test = train_test_split(X, Y, random_state=0)\n",
    "print(\"Dane treningowe: \"+ str(X_train.shape))"
   ]
  },
  {
   "cell_type": "markdown",
   "metadata": {},
   "source": [
    "## Definicja sieci"
   ]
  },
  {
   "cell_type": "code",
   "execution_count": 6,
   "metadata": {
    "pycharm": {
     "is_executing": false
    }
   },
   "outputs": [],
   "source": [
    "from tensorflow.keras import Sequential\n",
    "from tensorflow.keras.layers import LSTM, Dense\n",
    "from tensorflow_core.python.keras.optimizer_v2.rmsprop import RMSProp\n",
    "from script.main.loss_functions import *\n",
    "\n",
    "model = Sequential()\n",
    "model.add(Dense(128, input_shape=(35, SERIES_LENGHT - 1), activation=\"relu\"))\n",
    "model.add(LSTM(units=128, activation=\"relu\"))\n",
    "model.add(Dense(128, activation=\"relu\"))\n",
    "model.add(Dense(35))\n",
    "model.compile(loss=mean_square_loss_func, optimizer=RMSProp(lr=LEARNING_RATE), metrics=['accuracy'])"
   ]
  },
  {
   "cell_type": "markdown",
   "metadata": {},
   "source": [
    "## Uczenie"
   ]
  },
  {
   "cell_type": "code",
   "execution_count": null,
   "metadata": {
    "pycharm": {
     "is_executing": true
    }
   },
   "outputs": [
    {
     "name": "stdout",
     "output_type": "stream",
     "text": [
      "Train on 1293310 samples\n",
      "Epoch 1/2\n",
      "1293310/1293310 - 1828s - loss: 65.6665 - accuracy: 0.0481\n",
      "Epoch 2/2\n"
     ]
    }
   ],
   "source": [
    "model.fit(X_train,Y_train, epochs=EPOCHS, batch_size=BATCH_SIZE, verbose=2)"
   ]
  },
  {
   "cell_type": "code",
   "execution_count": null,
   "metadata": {
    "pycharm": {
     "is_executing": true
    }
   },
   "outputs": [],
   "source": [
    "model.evaluate(X_test, Y_test, verbose=0)"
   ]
  },
  {
   "cell_type": "code",
   "execution_count": null,
   "metadata": {
    "pycharm": {
     "is_executing": true
    }
   },
   "outputs": [],
   "source": [
    "print(np.round(np.squeeze(model.predict(X_test[0:1,:,:])),2))\n",
    "print(\"\\n\")\n",
    "print(np.round(np.squeeze(Y_test[0:1]),2))"
   ]
  },
  {
   "cell_type": "code",
   "execution_count": null,
   "metadata": {},
   "outputs": [],
   "source": [
    "from keras import losses\n",
    "\n",
    "\n",
    "#print(losses.mean_squared_error(model.predict(X_test[0:1,:,:], Y_test[0:1])))\n",
    "\n",
    "print(np.squeeze(model.predict(X_test[0:1,:,:])).shape)\n",
    "print(np.squeeze(Y_test[0:1]).shape)\n",
    "print(losses.mean_squared_error(np.squeeze(Y_test[0:1]),np.squeeze(model.predict(X_test[0:1,:,:]))))"
   ]
  },
  {
   "cell_type": "markdown",
   "metadata": {
    "pycharm": {
     "is_executing": true
    }
   },
   "source": [
    "## Wykres zmiennosci temperatur"
   ]
  },
  {
   "cell_type": "markdown",
   "metadata": {},
   "source": [
    "### Prawdziwe temperatury"
   ]
  },
  {
   "cell_type": "code",
   "execution_count": null,
   "metadata": {
    "pycharm": {
     "is_executing": true
    }
   },
   "outputs": [],
   "source": [
    "import matplotlib.pyplot as plt\n",
    "plt.plot(np.squeeze(X_test[1:2:,1:2,:]))\n",
    "plt.ylabel('some numbers')\n",
    "plt.show()"
   ]
  },
  {
   "cell_type": "markdown",
   "metadata": {},
   "source": [
    "### Przewidziane temperatury"
   ]
  },
  {
   "cell_type": "code",
   "execution_count": null,
   "metadata": {
    "pycharm": {
     "is_executing": true
    }
   },
   "outputs": [],
   "source": [
    "temps = []\n",
    "temp_row = np.array(X_test[0:1,:,:]) \n",
    "for i in range(24):\n",
    "    predicted = model.predict(temp_row)\n",
    "    \n",
    "    predicted[0,7] = int(i==0 or i==1)\n",
    "    predicted[0,8] = int(i==2 or i==3)\n",
    "    predicted[0,9] = int(i==4 or i==5)\n",
    "    predicted[0,10] = int(i==6 or i==7)\n",
    "    predicted[0,11] = int(i==8 or i==9)\n",
    "    predicted[0,12] = int(i==10 or i==11)\n",
    "    predicted[0,13] = int(i==12 or i==13)\n",
    "    predicted[0,14] = int(i==14 or i==15)\n",
    "    predicted[0,15] = int(i==16 or i==17)\n",
    "    predicted[0,16] = int(i==18 or i==19)\n",
    "    predicted[0,17] = int(i==20 or i==21)\n",
    "    predicted[0,18] = int(i==22 or i==23)\n",
    "    \n",
    "    predicted[0,19] = temp_row[0, 19, 0]\n",
    "    predicted[0,20] = temp_row[0, 20, 0]\n",
    "    predicted[0,21] = temp_row[0, 21, 0]\n",
    "    predicted[0,22] = temp_row[0, 22, 0]\n",
    "    predicted[0,23] = temp_row[0, 23, 0]\n",
    "    predicted[0,24] = temp_row[0, 24, 0]\n",
    "    \n",
    "    predicted = np.expand_dims(predicted, axis=2)\n",
    "    temp_row = np.append(arr=temp_row, values=predicted, axis=2)\n",
    "    temp_row = temp_row[:,:,1:]\n",
    "print(temp_row.shape)\n",
    "\n",
    "\n",
    "plt.plot(np.squeeze(temp_row[:,1:2,:]))\n",
    "plt.ylabel('some numbers')\n",
    "plt.show()"
   ]
  },
  {
   "cell_type": "markdown",
   "metadata": {},
   "source": [
    "## "
   ]
  }
 ],
 "metadata": {
  "kernelspec": {
   "display_name": "Python 3",
   "language": "python",
   "name": "python3"
  },
  "language_info": {
   "codemirror_mode": {
    "name": "ipython",
    "version": 3
   },
   "file_extension": ".py",
   "mimetype": "text/x-python",
   "name": "python",
   "nbconvert_exporter": "python",
   "pygments_lexer": "ipython3",
   "version": "3.6.1"
  },
  "pycharm": {
   "stem_cell": {
    "cell_type": "raw",
    "metadata": {
     "collapsed": false
    },
    "source": []
   }
  }
 },
 "nbformat": 4,
 "nbformat_minor": 4
}
