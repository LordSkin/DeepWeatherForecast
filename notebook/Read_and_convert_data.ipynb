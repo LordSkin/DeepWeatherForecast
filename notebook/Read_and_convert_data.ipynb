{
 "cells": [
  {
   "cell_type": "markdown",
   "metadata": {},
   "source": [
    "## Parametry"
   ]
  },
  {
   "cell_type": "code",
   "execution_count": 1,
   "metadata": {},
   "outputs": [],
   "source": [
    "SERIES_LENGHT = 72\n",
    "VALUES_DATATYPE = 'float16'\n",
    "COMPRESSION = 17"
   ]
  },
  {
   "cell_type": "markdown",
   "metadata": {},
   "source": [
    "## Wczytanie danych z pliku"
   ]
  },
  {
   "cell_type": "code",
   "execution_count": 2,
   "metadata": {
    "pycharm": {
     "is_executing": false
    }
   },
   "outputs": [
    {
     "name": "stdout",
     "output_type": "stream",
     "text": [
      "         Unnamed: 0                 date       station   county  longitude  \\\n",
      "0                 0  1989-01-01 00:00:00  Cork_Airport     Cork     -8.485   \n",
      "1                 1  1989-01-01 01:00:00  Cork_Airport     Cork     -8.485   \n",
      "2                 2  1989-01-01 02:00:00  Cork_Airport     Cork     -8.485   \n",
      "3                 3  1989-01-01 03:00:00  Cork_Airport     Cork     -8.485   \n",
      "4                 4  1989-01-01 04:00:00  Cork_Airport     Cork     -8.485   \n",
      "...             ...                  ...           ...      ...        ...   \n",
      "4218049     4497433  2017-12-31 19:00:00    Malin_head  Donegal     -7.339   \n",
      "4218050     4497434  2017-12-31 20:00:00    Malin_head  Donegal     -7.339   \n",
      "4218051     4497435  2017-12-31 21:00:00    Malin_head  Donegal     -7.339   \n",
      "4218052     4497436  2017-12-31 22:00:00    Malin_head  Donegal     -7.339   \n",
      "4218053     4497437  2017-12-31 23:00:00    Malin_head  Donegal     -7.339   \n",
      "\n",
      "         latitude  rain  temp  wetb  dewpt  ...  rhum     msl  wdsp  wddir  \\\n",
      "0          51.842   0.0   9.1   8.7    8.3  ...  95.0  1036.3  13.0  190.0   \n",
      "1          51.842   0.0   9.0   8.7    8.4  ...  96.0  1036.2  13.0  190.0   \n",
      "2          51.842   0.0   8.9   8.5    8.1  ...  95.0  1036.0  12.0  190.0   \n",
      "3          51.842   0.0   9.0   8.7    8.4  ...  96.0  1035.9  11.0  190.0   \n",
      "4          51.842   0.0   9.0   8.6    8.2  ...  95.0  1035.8  10.0  190.0   \n",
      "...           ...   ...   ...   ...    ...  ...   ...     ...   ...    ...   \n",
      "4218049    55.372   0.5   4.3   3.4    2.1  ...  85.0   984.2  21.0  260.0   \n",
      "4218050    55.372   0.4   5.7   4.2    2.0  ...  76.0   983.5  21.0  220.0   \n",
      "4218051    55.372   1.1   4.7   3.8    2.5  ...  85.0   983.7  24.0  220.0   \n",
      "4218052    55.372   0.0   4.5   3.8    2.8  ...  88.0   983.4  20.0  210.0   \n",
      "4218053    55.372   0.7   6.0   5.2    4.1  ...  87.0   983.2  22.0  220.0   \n",
      "\n",
      "           ww     w  sun      vis  clht  clamt  \n",
      "0        10.0  22.0  0.0  10000.0  22.0    7.0  \n",
      "1        10.0  22.0  0.0   8000.0   4.0    8.0  \n",
      "2        10.0  22.0  0.0   8000.0   4.0    8.0  \n",
      "3        10.0  22.0  0.0   8000.0   4.0    8.0  \n",
      "4        10.0  22.0  0.0  10000.0  14.0    8.0  \n",
      "...       ...   ...  ...      ...   ...    ...  \n",
      "4218049   NaN   NaN  NaN      NaN   NaN    NaN  \n",
      "4218050   NaN   NaN  NaN      NaN   NaN    NaN  \n",
      "4218051   NaN   NaN  NaN      NaN   NaN    NaN  \n",
      "4218052   NaN   NaN  NaN      NaN   NaN    NaN  \n",
      "4218053   NaN   NaN  NaN      NaN   NaN    NaN  \n",
      "\n",
      "[4218054 rows x 21 columns]\n",
      "(4218054, 21)\n"
     ]
    }
   ],
   "source": [
    "import pandas as pd\n",
    "\n",
    "data = pd.read_csv(\"../resources/hourly_irish_weather.csv\")\n",
    "print(data)\n",
    "print(data.shape)"
   ]
  },
  {
   "cell_type": "markdown",
   "metadata": {},
   "source": [
    "## Usunięcie niepełnych danych"
   ]
  },
  {
   "cell_type": "code",
   "execution_count": 3,
   "metadata": {
    "pycharm": {
     "is_executing": false
    }
   },
   "outputs": [
    {
     "name": "stdout",
     "output_type": "stream",
     "text": [
      "(1769250, 21)\n"
     ]
    }
   ],
   "source": [
    "data.dropna(inplace=True)\n",
    "print(data.shape)"
   ]
  },
  {
   "cell_type": "markdown",
   "metadata": {},
   "source": [
    "## Usunięcie zbędnych kolumn;\n",
    "\n",
    "Zostają:\n",
    "* Data i godzina - date\n",
    "* nazwa stacji - station\n",
    "* opad deszczu w (mm) - rain\n",
    "* temperatura (°C) - temp\n",
    "* Wilgotność względna (%) - rhum\n",
    "* ciśnienie npm (hpa) - msl\n",
    "* średnia prędkość wiatru (kt) - wdsp\n",
    "* kod synoptyczny (0-100) - ww\n",
    "* czas naslonecznienia (h) - sun\n",
    "* widoczność (m) - vis"
   ]
  },
  {
   "cell_type": "code",
   "execution_count": 4,
   "metadata": {
    "pycharm": {
     "is_executing": false
    }
   },
   "outputs": [],
   "source": [
    "data.drop(columns=[\"Unnamed: 0\",\"county\", \"longitude\", \"latitude\",\"vappr\", \"wddir\", \"w\", \"clht\", \"clamt\"], inplace=True)\n",
    "data = data.loc[:, ~data.columns.str.contains('^Unnamed')]"
   ]
  },
  {
   "cell_type": "markdown",
   "metadata": {},
   "source": [
    "## Wydzielenie typu pogody"
   ]
  },
  {
   "cell_type": "code",
   "execution_count": 5,
   "metadata": {},
   "outputs": [],
   "source": [
    "data[\"is_type_0\"] = data[\"ww\"].apply(func=lambda x: int(x<10))\n",
    "data[\"is_type_1\"] = data[\"ww\"].apply(func=lambda x: int(x>=10 and x<20))\n",
    "data[\"is_type_2\"] = data[\"ww\"].apply(func=lambda x: int(x>=20 and x<30))\n",
    "data[\"is_type_3\"] = data[\"ww\"].apply(func=lambda x: int(x>=30 and x<40))\n",
    "data[\"is_type_4\"] = data[\"ww\"].apply(func=lambda x: int(x>=40 and x<50))\n",
    "data[\"is_type_5\"] = data[\"ww\"].apply(func=lambda x: int(x>=50 and x<60))\n",
    "data[\"is_type_6\"] = data[\"ww\"].apply(func=lambda x: int(x>=60 and x<70))\n",
    "data[\"is_type_7\"] = data[\"ww\"].apply(func=lambda x: int(x>=70 and x<80))\n",
    "data[\"is_type_8\"] = data[\"ww\"].apply(func=lambda x: int(x>=80 and x<90))\n",
    "data[\"is_type_9\"] = data[\"ww\"].apply(func=lambda x: int(x>=90))"
   ]
  },
  {
   "cell_type": "markdown",
   "metadata": {},
   "source": [
    "## Wydzielenie daty i okresu godzinowego"
   ]
  },
  {
   "cell_type": "code",
   "execution_count": 6,
   "metadata": {
    "pycharm": {
     "is_executing": false
    }
   },
   "outputs": [],
   "source": [
    "data[\"dateTime\"] = pd.to_datetime(data[\"date\"])\n",
    "data[\"day\"] = data[\"dateTime\"].apply(func=lambda x: x.date())\n",
    "data[\"hour\"] = data[\"dateTime\"].apply(func=lambda x: x.hour)\n",
    "\n",
    "data[\"is_0_1\"] = data[\"hour\"].apply(func=lambda x: int(x==0 or x==1))\n",
    "data[\"is_2_3\"] = data[\"hour\"].apply(func=lambda x: int(x==2 or x==3))\n",
    "data[\"is_4_5\"] = data[\"hour\"].apply(func=lambda x: int(x==4 or x==5))\n",
    "data[\"is_6_7\"] = data[\"hour\"].apply(func=lambda x: int(x==6 or x==7))\n",
    "data[\"is_8_9\"] = data[\"hour\"].apply(func=lambda x: int(x==8 or x==9))\n",
    "data[\"is_10_11\"] = data[\"hour\"].apply(func=lambda x: int(x==10 or x==11))\n",
    "data[\"is_12_13\"] = data[\"hour\"].apply(func=lambda x: int(x==12 or x==13))\n",
    "data[\"is_14_15\"] = data[\"hour\"].apply(func=lambda x: int(x==14 or x==15))\n",
    "data[\"is_16_17\"] = data[\"hour\"].apply(func=lambda x: int(x==16 or x==17))\n",
    "data[\"is_18_19\"] = data[\"hour\"].apply(func=lambda x: int(x==18 or x==19))\n",
    "data[\"is_20_21\"] = data[\"hour\"].apply(func=lambda x: int(x==20 or x==21))\n",
    "data[\"is_22_23\"] = data[\"hour\"].apply(func=lambda x: int(x==22 or x==23))"
   ]
  },
  {
   "cell_type": "markdown",
   "metadata": {},
   "source": [
    "## Wydzielenie miesiąca"
   ]
  },
  {
   "cell_type": "code",
   "execution_count": 7,
   "metadata": {
    "pycharm": {
     "is_executing": false
    }
   },
   "outputs": [],
   "source": [
    "data[\"is_jan_feb\"] = data[\"dateTime\"].apply(func=lambda x: int(x.month==1 or x.month==2))\n",
    "data[\"is_mar_apr\"] = data[\"dateTime\"].apply(func=lambda x: int(x.month==3 or x.month==4))\n",
    "data[\"is_may_jun\"] = data[\"dateTime\"].apply(func=lambda x: int(x.month==5 or x.month==6))\n",
    "data[\"is_jul_aug\"] = data[\"dateTime\"].apply(func=lambda x: int(x.month==7 or x.month==8))\n",
    "data[\"is_sep_oct\"] = data[\"dateTime\"].apply(func=lambda x: int(x.month==9 or x.month==10))\n",
    "data[\"is_nov_dec\"] = data[\"dateTime\"].apply(func=lambda x: int(x.month==11 or x.month==12))"
   ]
  },
  {
   "cell_type": "markdown",
   "metadata": {},
   "source": [
    "## Usunięcie nepotrzebnych kolumn czasu i miejsca"
   ]
  },
  {
   "cell_type": "code",
   "execution_count": 8,
   "metadata": {
    "pycharm": {
     "is_executing": false
    }
   },
   "outputs": [
    {
     "name": "stdout",
     "output_type": "stream",
     "text": [
      "Index(['rain', 'temp', 'wetb', 'dewpt', 'rhum', 'msl', 'wdsp', 'sun', 'vis',\n",
      "       'is_type_0', 'is_type_1', 'is_type_2', 'is_type_3', 'is_type_4',\n",
      "       'is_type_5', 'is_type_6', 'is_type_7', 'is_type_8', 'is_type_9', 'day',\n",
      "       'hour', 'is_0_1', 'is_2_3', 'is_4_5', 'is_6_7', 'is_8_9', 'is_10_11',\n",
      "       'is_12_13', 'is_14_15', 'is_16_17', 'is_18_19', 'is_20_21', 'is_22_23',\n",
      "       'is_jan_feb', 'is_mar_apr', 'is_may_jun', 'is_jul_aug', 'is_sep_oct',\n",
      "       'is_nov_dec'],\n",
      "      dtype='object')\n"
     ]
    }
   ],
   "source": [
    "data.drop(columns=[\"date\", \"station\", \"ww\", \"dateTime\"], inplace=True)\n",
    "\n",
    "print(data.columns)"
   ]
  },
  {
   "cell_type": "markdown",
   "metadata": {},
   "source": [
    "## Normalizacja odpowiednich kolumn"
   ]
  },
  {
   "cell_type": "code",
   "execution_count": 9,
   "metadata": {},
   "outputs": [],
   "source": [
    "from sklearn import preprocessing\n",
    "\n",
    "min_max_scaler = preprocessing.StandardScaler()\n",
    "\n",
    "data[['rain']] = min_max_scaler.fit_transform(data[['rain']].values)\n",
    "min_max_scaler = preprocessing.StandardScaler()\n",
    "data[['temp']] = min_max_scaler.fit_transform(data[['temp']].values)\n",
    "min_max_scaler = preprocessing.StandardScaler()\n",
    "data[['rhum']] = min_max_scaler.fit_transform(data[['rhum']].values)\n",
    "min_max_scaler = preprocessing.StandardScaler()\n",
    "data[['msl']] = min_max_scaler.fit_transform(data[['msl']].values)\n",
    "min_max_scaler = preprocessing.StandardScaler()\n",
    "data[['wdsp']] = min_max_scaler.fit_transform(data[['wdsp']].values)\n",
    "min_max_scaler = preprocessing.StandardScaler()\n",
    "data[['sun']] = min_max_scaler.fit_transform(data[['sun']].values)\n",
    "min_max_scaler = preprocessing.StandardScaler()\n",
    "data[['vis']] = min_max_scaler.fit_transform(data[['vis']].values)\n",
    "min_max_scaler = preprocessing.StandardScaler()\n",
    "data[['wetb']] = min_max_scaler.fit_transform(data[['wetb']].values)\n",
    "min_max_scaler = preprocessing.StandardScaler()\n",
    "data[['dewpt']] = min_max_scaler.fit_transform(data[['dewpt']].values)"
   ]
  },
  {
   "cell_type": "markdown",
   "metadata": {},
   "source": [
    "## Konwersja na tensor 3 wymiarowy"
   ]
  },
  {
   "cell_type": "code",
   "execution_count": 10,
   "metadata": {
    "pycharm": {
     "is_executing": false
    }
   },
   "outputs": [
    {
     "name": "stdout",
     "output_type": "stream",
     "text": [
      "(1769250, 39)\n",
      "(101392, 72, 37)\n"
     ]
    }
   ],
   "source": [
    "import numpy as np\n",
    "from script.main.series_converter import convert_to_series\n",
    "\n",
    "print(data.shape)\n",
    "data = convert_to_series(data, SERIES_LENGHT, COMPRESSION)\n",
    "\n",
    "data = np.array(data, dtype=VALUES_DATATYPE)\n",
    "print(data.shape)"
   ]
  },
  {
   "cell_type": "markdown",
   "metadata": {},
   "source": [
    "## Naprawa wartosci NaN"
   ]
  },
  {
   "cell_type": "code",
   "execution_count": 11,
   "metadata": {},
   "outputs": [],
   "source": [
    "data = np.nan_to_num(data)"
   ]
  },
  {
   "cell_type": "markdown",
   "metadata": {},
   "source": [
    "## Zapis danych do pliku"
   ]
  },
  {
   "cell_type": "code",
   "execution_count": 12,
   "metadata": {},
   "outputs": [],
   "source": [
    "file_name = \"data_%s_series_%d_compression_%d\" % (VALUES_DATATYPE, SERIES_LENGHT, COMPRESSION)\n",
    "np.save(\"../resources/\" + file_name, data)"
   ]
  },
  {
   "cell_type": "code",
   "execution_count": null,
   "metadata": {},
   "outputs": [],
   "source": []
  }
 ],
 "metadata": {
  "kernelspec": {
   "display_name": "Python 3",
   "language": "python",
   "name": "python3"
  },
  "language_info": {
   "codemirror_mode": {
    "name": "ipython",
    "version": 3
   },
   "file_extension": ".py",
   "mimetype": "text/x-python",
   "name": "python",
   "nbconvert_exporter": "python",
   "pygments_lexer": "ipython3",
   "version": "3.6.1"
  },
  "pycharm": {
   "stem_cell": {
    "cell_type": "raw",
    "metadata": {
     "collapsed": false
    },
    "source": []
   }
  }
 },
 "nbformat": 4,
 "nbformat_minor": 4
}
