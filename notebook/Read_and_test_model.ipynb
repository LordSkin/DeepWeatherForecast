{
 "cells": [
  {
   "cell_type": "markdown",
   "metadata": {},
   "source": [
    "## Parametry"
   ]
  },
  {
   "cell_type": "code",
   "execution_count": 13,
   "metadata": {},
   "outputs": [],
   "source": [
    "MODEL_NAME = \"trained_model.h5\"\n",
    "LEARNING_RATE = 0.001"
   ]
  },
  {
   "cell_type": "markdown",
   "metadata": {},
   "source": [
    "## Wczytanie modelu z pliku"
   ]
  },
  {
   "cell_type": "code",
   "execution_count": 14,
   "metadata": {},
   "outputs": [
    {
     "name": "stdout",
     "output_type": "stream",
     "text": [
      "Model: \"sequential_2\"\n",
      "_________________________________________________________________\n",
      "Layer (type)                 Output Shape              Param #   \n",
      "=================================================================\n",
      "lstm_4 (LSTM)                (None, 37, 512)           1196032   \n",
      "_________________________________________________________________\n",
      "lstm_5 (LSTM)                (None, 512)               2099200   \n",
      "_________________________________________________________________\n",
      "dense_2 (Dense)              (None, 19)                9747      \n",
      "=================================================================\n",
      "Total params: 3,304,979\n",
      "Trainable params: 3,304,979\n",
      "Non-trainable params: 0\n",
      "_________________________________________________________________\n"
     ]
    }
   ],
   "source": [
    "from tensorflow.keras.models import load_model\n",
    "from tensorflow_core.python.keras.optimizer_v2.rmsprop import RMSProp\n",
    "from tensorflow.keras.layers import LeakyReLU\n",
    "from script.main.loss_functions import *\n",
    "\n",
    "model = load_model('../resources/%s' % MODEL_NAME, compile=False, custom_objects={'LeakyReLU': LeakyReLU})\n",
    "model.compile(loss=mean_square_loss_func, optimizer=RMSProp(lr=LEARNING_RATE), metrics=['accuracy'])\n",
    "model.summary()"
   ]
  },
  {
   "cell_type": "markdown",
   "metadata": {},
   "source": [
    "## Wczytanie danych testowych z pliku"
   ]
  },
  {
   "cell_type": "code",
   "execution_count": 15,
   "metadata": {},
   "outputs": [],
   "source": [
    "import numpy as np\n",
    "\n",
    "X_test = np.load(\"../resources/test_data/X_test.npy\")\n",
    "Y_test = np.load(\"../resources/test_data/Y_test.npy\")"
   ]
  },
  {
   "cell_type": "markdown",
   "metadata": {},
   "source": [
    "## Porównanie zmienności temperatur"
   ]
  },
  {
   "cell_type": "code",
   "execution_count": 16,
   "metadata": {},
   "outputs": [
    {
     "name": "stdout",
     "output_type": "stream",
     "text": [
      "[0. 0. 0. 0. 0. 1.]\n",
      "(37, 71)\n"
     ]
    },
    {
     "data": {
      "image/png": "[encoded data removed]",
      "text/plain": [
       "<Figure size 432x288 with 1 Axes>"
      ]
     },
     "metadata": {
      "needs_background": "light"
     },
     "output_type": "display_data"
    }
   ],
   "source": [
    "import matplotlib.pyplot as plt\n",
    "\n",
    "temps = np.squeeze(X_test[0:1,:,:])\n",
    "month = temps[31:37,1]\n",
    "print(month)\n",
    "for i in range(71):\n",
    "    ii = i % 24\n",
    "    predicted = model.predict(np.array([temps,]))\n",
    "    final_pred = predicted[0,:]\n",
    "    final_pred = np.append(final_pred, int(ii==0 or ii==1))\n",
    "    final_pred = np.append(final_pred, int(ii==2 or ii==3))\n",
    "    final_pred = np.append(final_pred, int(ii==4 or ii==5))\n",
    "    final_pred = np.append(final_pred, int(ii==6 or ii==7))\n",
    "    final_pred = np.append(final_pred, int(ii==8 or ii==9))\n",
    "    final_pred = np.append(final_pred, int(ii==10 or ii==11))\n",
    "    final_pred = np.append(final_pred, int(ii==12 or ii==13))\n",
    "    final_pred = np.append(final_pred, int(ii==14 or ii==15))\n",
    "    final_pred = np.append(final_pred, int(ii==16 or ii==17))\n",
    "    final_pred = np.append(final_pred, int(ii==18 or ii==19))\n",
    "    final_pred = np.append(final_pred, int(ii==20 or ii==21))\n",
    "    final_pred = np.append(final_pred, int(ii==22 or ii==23))\n",
    "    final_pred = np.append(final_pred, month)\n",
    "    \n",
    "    temps = np.append(temps, np.array([final_pred,]).transpose(), axis=1)\n",
    "    temps = temps[:,1:]\n",
    "\n",
    "print(temps.shape)\n",
    "plt.plot(range(0,71),np.squeeze(X_test[0:1:,1:2,:]))\n",
    "\n",
    "plt.plot(range(0,71), np.squeeze(temps[1:2,:]))\n",
    "\n",
    "plt.ylabel('wartości znormalizowane')\n",
    "plt.show()"
   ]
  },
  {
   "cell_type": "code",
   "execution_count": 17,
   "metadata": {},
   "outputs": [
    {
     "name": "stdout",
     "output_type": "stream",
     "text": [
      "61550/61550 [==============================] - 19s 315us/sample - loss: 0.0973 - accuracy: 0.6760\n",
      "test loss, test acc: [0.09727705656535693, 0.67597073]\n"
     ]
    }
   ],
   "source": [
    "results = model.evaluate(X_test, Y_test, batch_size=32)\n",
    "print('test loss, test acc:', results)"
   ]
  }
 ],
 "metadata": {
  "kernelspec": {
   "display_name": "Python 3",
   "language": "python",
   "name": "python3"
  },
  "language_info": {
   "codemirror_mode": {
    "name": "ipython",
    "version": 3
   },
   "file_extension": ".py",
   "mimetype": "text/x-python",
   "name": "python",
   "nbconvert_exporter": "python",
   "pygments_lexer": "ipython3",
   "version": "3.6.1"
  }
 },
 "nbformat": 4,
 "nbformat_minor": 4
}
