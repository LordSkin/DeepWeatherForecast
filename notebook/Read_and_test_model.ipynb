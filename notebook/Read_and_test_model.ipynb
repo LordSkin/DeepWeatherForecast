{
 "cells": [
  {
   "cell_type": "markdown",
   "metadata": {},
   "source": [
    "## Parametry"
   ]
  },
  {
   "cell_type": "code",
   "execution_count": 10,
   "metadata": {},
   "outputs": [],
   "source": [
    "MODEL_NAME = \"trained_model.h5\"\n",
    "LEARNING_RATE = 0.001"
   ]
  },
  {
   "cell_type": "markdown",
   "metadata": {},
   "source": [
    "## Wczytanie modelu z pliku"
   ]
  },
  {
   "cell_type": "code",
   "execution_count": 11,
   "metadata": {},
   "outputs": [
    {
     "name": "stdout",
     "output_type": "stream",
     "text": [
      "Model: \"sequential\"\n",
      "_________________________________________________________________\n",
      "Layer (type)                 Output Shape              Param #   \n",
      "=================================================================\n",
      "lstm (LSTM)                  (None, 37, 1024)          4489216   \n",
      "_________________________________________________________________\n",
      "lstm_1 (LSTM)                (None, 1024)              8392704   \n",
      "_________________________________________________________________\n",
      "dense (Dense)                (None, 19)                19475     \n",
      "=================================================================\n",
      "Total params: 12,901,395\n",
      "Trainable params: 12,901,395\n",
      "Non-trainable params: 0\n",
      "_________________________________________________________________\n"
     ]
    }
   ],
   "source": [
    "from tensorflow.keras.models import load_model\n",
    "from tensorflow_core.python.keras.optimizer_v2.rmsprop import RMSProp\n",
    "from tensorflow.keras.layers import LeakyReLU\n",
    "from script.main.loss_functions import *\n",
    "\n",
    "model = load_model('../resources/%s' % MODEL_NAME, compile=False, custom_objects={'LeakyReLU': LeakyReLU})\n",
    "model.compile(loss=mean_square_loss_func, optimizer=RMSProp(lr=LEARNING_RATE), metrics=['accuracy'])\n",
    "model.summary()"
   ]
  },
  {
   "cell_type": "markdown",
   "metadata": {},
   "source": [
    "## Wczytanie danych testowych z pliku"
   ]
  },
  {
   "cell_type": "code",
   "execution_count": 12,
   "metadata": {},
   "outputs": [],
   "source": [
    "import numpy as np\n",
    "\n",
    "X_test = np.load(\"../resources/test_data/X_test.npy\")\n",
    "Y_test = np.load(\"../resources/test_data/Y_test.npy\")\n",
    "test_series = np.load(\"../resources/test_data2.npy\")"
   ]
  },
  {
   "cell_type": "markdown",
   "metadata": {},
   "source": [
    "## Porównanie zmienności temperatur"
   ]
  },
  {
   "cell_type": "code",
   "execution_count": 33,
   "metadata": {},
   "outputs": [
    {
     "name": "stdout",
     "output_type": "stream",
     "text": [
      "(37, 71)\n"
     ]
    },
    {
     "data": {
      "image/png": "[encoded data removed]",
      "text/plain": [
       "<Figure size 432x288 with 1 Axes>"
      ]
     },
     "metadata": {
      "needs_background": "light"
     },
     "output_type": "display_data"
    }
   ],
   "source": [
    "import matplotlib.pyplot as plt\n",
    "from script.main.date_time_tools import get_next_hour\n",
    "\n",
    "temps = test_series[0:71].transpose()\n",
    "month = temps[31:37,1]\n",
    "for i in range(71):\n",
    "    predicted = model.predict(np.array([temps,]))\n",
    "    final_pred = predicted[0,:]\n",
    "    final_pred = np.append(final_pred, get_next_hour(temps[:,69:]))\n",
    "    final_pred = np.append(final_pred, month)\n",
    "    temps = np.append(temps, np.array([final_pred,]).transpose(), axis=1)\n",
    "    temps = temps[:,1:]\n",
    "\n",
    "print(temps.shape)\n",
    "plt.plot(range(0,71),np.squeeze(test_series.transpose()[1:2, 71:(71+71)]))\n",
    "\n",
    "plt.plot(range(0,71), np.squeeze(temps[1:2,:]))\n",
    "\n",
    "plt.ylabel('wartości znormalizowane')\n",
    "plt.show()"
   ]
  },
  {
   "cell_type": "code",
   "execution_count": null,
   "metadata": {},
   "outputs": [],
   "source": [
    "results = model.evaluate(X_test, Y_test, batch_size=32)\n",
    "print('test loss, test acc:', results)"
   ]
  },
  {
   "cell_type": "markdown",
   "metadata": {},
   "source": [
    "## Zmiennośc błędu w czasie"
   ]
  },
  {
   "cell_type": "code",
   "execution_count": null,
   "metadata": {},
   "outputs": [],
   "source": [
    "errors = [] \n",
    "for pred, real in zip(X_test[0:1,:,:], temps[:,:])"
   ]
  }
 ],
 "metadata": {
  "kernelspec": {
   "display_name": "Python 3",
   "language": "python",
   "name": "python3"
  },
  "language_info": {
   "codemirror_mode": {
    "name": "ipython",
    "version": 3
   },
   "file_extension": ".py",
   "mimetype": "text/x-python",
   "name": "python",
   "nbconvert_exporter": "python",
   "pygments_lexer": "ipython3",
   "version": "3.6.1"
  }
 },
 "nbformat": 4,
 "nbformat_minor": 4
}
