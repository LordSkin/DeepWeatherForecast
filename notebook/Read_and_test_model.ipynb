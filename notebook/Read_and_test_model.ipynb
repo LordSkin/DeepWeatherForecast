{
 "cells": [
  {
   "cell_type": "markdown",
   "metadata": {},
   "source": [
    "## Parametry"
   ]
  },
  {
   "cell_type": "code",
   "execution_count": 1,
   "metadata": {},
   "outputs": [],
   "source": [
    "MODEL_NAME = \"trained_model.h5\"\n",
    "LEARNING_RATE = 0.001"
   ]
  },
  {
   "cell_type": "markdown",
   "metadata": {},
   "source": [
    "## Wczytanie modelu z pliku"
   ]
  },
  {
   "cell_type": "code",
   "execution_count": 2,
   "metadata": {},
   "outputs": [
    {
     "name": "stdout",
     "output_type": "stream",
     "text": [
      "Model: \"sequential_1\"\n",
      "_________________________________________________________________\n",
      "Layer (type)                 Output Shape              Param #   \n",
      "=================================================================\n",
      "lstm_2 (LSTM)                (None, 37, 512)           1196032   \n",
      "_________________________________________________________________\n",
      "lstm_3 (LSTM)                (None, 512)               2099200   \n",
      "_________________________________________________________________\n",
      "dense_1 (Dense)              (None, 19)                9747      \n",
      "=================================================================\n",
      "Total params: 3,304,979\n",
      "Trainable params: 3,304,979\n",
      "Non-trainable params: 0\n",
      "_________________________________________________________________\n"
     ]
    }
   ],
   "source": [
    "from tensorflow.keras.models import load_model\n",
    "from tensorflow_core.python.keras.optimizer_v2.rmsprop import RMSProp\n",
    "from tensorflow.keras.layers import LeakyReLU\n",
    "from script.main.loss_functions import *\n",
    "\n",
    "model = load_model('../resources/%s' % MODEL_NAME, compile=False, custom_objects={'LeakyReLU': LeakyReLU})\n",
    "model.compile(loss=mean_square_loss_func, optimizer=RMSProp(lr=LEARNING_RATE), metrics=['accuracy'])\n",
    "model.summary()"
   ]
  },
  {
   "cell_type": "markdown",
   "metadata": {},
   "source": [
    "## Wczytanie danych testowych z pliku"
   ]
  },
  {
   "cell_type": "code",
   "execution_count": 3,
   "metadata": {},
   "outputs": [],
   "source": [
    "import numpy as np\n",
    "\n",
    "X_test = np.load(\"../resources/test_data/X_test.npy\")\n",
    "Y_test = np.load(\"../resources/test_data/Y_test.npy\")\n",
    "test_series = np.load(\"../resources/data_float16_series_144_compression_119.npy\")"
   ]
  },
  {
   "cell_type": "markdown",
   "metadata": {},
   "source": [
    "## Wyliczenie prognoz na 72h wprzód"
   ]
  },
  {
   "cell_type": "code",
   "execution_count": 4,
   "metadata": {},
   "outputs": [
    {
     "name": "stdout",
     "output_type": "stream",
     "text": [
      "(14475, 144, 37)\n"
     ]
    }
   ],
   "source": [
    "print(test_series.shape)\n",
    "preds = np.zeros(shape=test_series.shape)\n",
    "preds[:,:,:] = test_series[:,:,:]\n",
    "preds = preds.transpose(0,2,1)\n",
    "for i in range(72):\n",
    "    preds[:,:19,72+i] =  model.predict(preds[:,:,:71])"
   ]
  },
  {
   "cell_type": "markdown",
   "metadata": {},
   "source": [
    "### Porównanie z prawdziwymi pomiarami i wyliczenie błędów"
   ]
  },
  {
   "cell_type": "code",
   "execution_count": 5,
   "metadata": {},
   "outputs": [
    {
     "name": "stdout",
     "output_type": "stream",
     "text": [
      "(14475, 37, 144)\n",
      "[0.1439023  0.17800615 0.20880744 0.23823165 0.26334506 0.28532394\n",
      " 0.3052265  0.32148667 0.33566135 0.34665387 0.35572296 0.36262206\n",
      " 0.36811999 0.37004623 0.3688798  0.36745003 0.36412955 0.35862134\n",
      " 0.35457132 0.34790357 0.34187913 0.33758306 0.33474231 0.33634638\n",
      " 0.34184941 0.35026175 0.36017623 0.37080297 0.38151897 0.3936177\n",
      " 0.40253553 0.41024878 0.41779853 0.42224735 0.42639803 0.42764595\n",
      " 0.42911508 0.42687457 0.42402609 0.41999789 0.41434841 0.40853206\n",
      " 0.40089157 0.39406819 0.38777242 0.38355099 0.37910566 0.37747447\n",
      " 0.38102359 0.38617317 0.39586523 0.4048225  0.41362138 0.42213725\n",
      " 0.43035611 0.43837984 0.44285944 0.44805223 0.45185592 0.45295855\n",
      " 0.45278892 0.4512608  0.44867651 0.44425184 0.43858116 0.43163163\n",
      " 0.42578076 0.41799095 0.41069591 0.40568926 0.40063885 0.39959421]\n"
     ]
    },
    {
     "data": {
      "image/png": "[encoded data removed]",
      "text/plain": [
       "<Figure size 432x288 with 1 Axes>"
      ]
     },
     "metadata": {
      "needs_background": "light"
     },
     "output_type": "display_data"
    }
   ],
   "source": [
    "import matplotlib.pyplot as plt\n",
    "from script.main.loss_functions import *\n",
    "\n",
    "print(preds.shape)\n",
    "vals = test_series.transpose(0,2,1)\n",
    "losses = np.zeros(72)\n",
    "for i in range(72):\n",
    "    losses[i]  = error_on_series(preds[:,:,72+i], vals[:,:,72+i])\n",
    "print(losses)\n",
    "plt.plot(range(0,72), losses)\n",
    "\n",
    "plt.ylabel('wartość straty')\n",
    "plt.show()"
   ]
  },
  {
   "cell_type": "markdown",
   "metadata": {},
   "source": [
    "### Ewaluacja testowego błędu"
   ]
  },
  {
   "cell_type": "code",
   "execution_count": 6,
   "metadata": {},
   "outputs": [
    {
     "name": "stdout",
     "output_type": "stream",
     "text": [
      "61550/61550 [==============================] - 19s 304us/sample - loss: 0.0916 - accuracy: 0.7094\n",
      "test loss, test acc: [0.09155335714213647, 0.70939076]\n"
     ]
    }
   ],
   "source": [
    "results = model.evaluate(X_test, Y_test, batch_size=32)\n",
    "print('test loss, test acc:', results)"
   ]
  }
 ],
 "metadata": {
  "kernelspec": {
   "display_name": "Python 3",
   "language": "python",
   "name": "python3"
  },
  "language_info": {
   "codemirror_mode": {
    "name": "ipython",
    "version": 3
   },
   "file_extension": ".py",
   "mimetype": "text/x-python",
   "name": "python",
   "nbconvert_exporter": "python",
   "pygments_lexer": "ipython3",
   "version": "3.6.1"
  }
 },
 "nbformat": 4,
 "nbformat_minor": 4
}
