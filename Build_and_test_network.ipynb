{
 "cells": [
  {
   "cell_type": "markdown",
   "metadata": {},
   "source": [
    "## Wczytanie danych z pliku"
   ]
  },
  {
   "cell_type": "code",
   "execution_count": 1,
   "metadata": {
    "pycharm": {
     "is_executing": false
    }
   },
   "outputs": [
    {
     "name": "stdout",
     "output_type": "stream",
     "text": [
      "         Unnamed: 0                 date       station   county  longitude  \\\n",
      "0                 0  1989-01-01 00:00:00  Cork_Airport     Cork     -8.485   \n",
      "1                 1  1989-01-01 01:00:00  Cork_Airport     Cork     -8.485   \n",
      "2                 2  1989-01-01 02:00:00  Cork_Airport     Cork     -8.485   \n",
      "3                 3  1989-01-01 03:00:00  Cork_Airport     Cork     -8.485   \n",
      "4                 4  1989-01-01 04:00:00  Cork_Airport     Cork     -8.485   \n",
      "...             ...                  ...           ...      ...        ...   \n",
      "4218049     4497433  2017-12-31 19:00:00    Malin_head  Donegal     -7.339   \n",
      "4218050     4497434  2017-12-31 20:00:00    Malin_head  Donegal     -7.339   \n",
      "4218051     4497435  2017-12-31 21:00:00    Malin_head  Donegal     -7.339   \n",
      "4218052     4497436  2017-12-31 22:00:00    Malin_head  Donegal     -7.339   \n",
      "4218053     4497437  2017-12-31 23:00:00    Malin_head  Donegal     -7.339   \n",
      "\n",
      "         latitude  rain  temp  wetb  dewpt  ...  rhum     msl  wdsp  wddir  \\\n",
      "0          51.842   0.0   9.1   8.7    8.3  ...  95.0  1036.3  13.0  190.0   \n",
      "1          51.842   0.0   9.0   8.7    8.4  ...  96.0  1036.2  13.0  190.0   \n",
      "2          51.842   0.0   8.9   8.5    8.1  ...  95.0  1036.0  12.0  190.0   \n",
      "3          51.842   0.0   9.0   8.7    8.4  ...  96.0  1035.9  11.0  190.0   \n",
      "4          51.842   0.0   9.0   8.6    8.2  ...  95.0  1035.8  10.0  190.0   \n",
      "...           ...   ...   ...   ...    ...  ...   ...     ...   ...    ...   \n",
      "4218049    55.372   0.5   4.3   3.4    2.1  ...  85.0   984.2  21.0  260.0   \n",
      "4218050    55.372   0.4   5.7   4.2    2.0  ...  76.0   983.5  21.0  220.0   \n",
      "4218051    55.372   1.1   4.7   3.8    2.5  ...  85.0   983.7  24.0  220.0   \n",
      "4218052    55.372   0.0   4.5   3.8    2.8  ...  88.0   983.4  20.0  210.0   \n",
      "4218053    55.372   0.7   6.0   5.2    4.1  ...  87.0   983.2  22.0  220.0   \n",
      "\n",
      "           ww     w  sun      vis  clht  clamt  \n",
      "0        10.0  22.0  0.0  10000.0  22.0    7.0  \n",
      "1        10.0  22.0  0.0   8000.0   4.0    8.0  \n",
      "2        10.0  22.0  0.0   8000.0   4.0    8.0  \n",
      "3        10.0  22.0  0.0   8000.0   4.0    8.0  \n",
      "4        10.0  22.0  0.0  10000.0  14.0    8.0  \n",
      "...       ...   ...  ...      ...   ...    ...  \n",
      "4218049   NaN   NaN  NaN      NaN   NaN    NaN  \n",
      "4218050   NaN   NaN  NaN      NaN   NaN    NaN  \n",
      "4218051   NaN   NaN  NaN      NaN   NaN    NaN  \n",
      "4218052   NaN   NaN  NaN      NaN   NaN    NaN  \n",
      "4218053   NaN   NaN  NaN      NaN   NaN    NaN  \n",
      "\n",
      "[4218054 rows x 21 columns]\n",
      "(4218054, 21)\n"
     ]
    }
   ],
   "source": [
    "import pandas as pd\n",
    "\n",
    "data = pd.read_csv(\"hourly_irish_weather.csv\")\n",
    "print(data)\n",
    "print(data.shape)"
   ]
  },
  {
   "cell_type": "markdown",
   "metadata": {},
   "source": [
    "## Usunięcie niepełnych danych"
   ]
  },
  {
   "cell_type": "code",
   "execution_count": 2,
   "metadata": {
    "pycharm": {
     "is_executing": false
    }
   },
   "outputs": [
    {
     "name": "stdout",
     "output_type": "stream",
     "text": [
      "(1769250, 21)\n"
     ]
    }
   ],
   "source": [
    "data.dropna(inplace=True)\n",
    "print(data.shape)"
   ]
  },
  {
   "cell_type": "markdown",
   "metadata": {},
   "source": [
    "## Usunięcie zbędnych kolumn;\n",
    "\n",
    "Zostają:\n",
    "* Data i godzina - date\n",
    "* nazwa stacji - station\n",
    "* opad deszczu w (mm) - rain\n",
    "* temperatura (°C) - temp\n",
    "* Wilgotność względna (%) - rhum\n",
    "* ciśnienie npm (hpa) - msl\n",
    "* średnia prędkość wiatru (kt) - wdsp\n",
    "* kod synoptyczny (0-100) - ww\n",
    "* czas naslonecznienia (h) - sun\n",
    "* widoczność (m) - vis"
   ]
  },
  {
   "cell_type": "code",
   "execution_count": 3,
   "metadata": {
    "pycharm": {
     "is_executing": false
    }
   },
   "outputs": [],
   "source": [
    "data.drop(columns=[\"Unnamed: 0\",\"county\", \"longitude\", \"latitude\",\"wetb\",\"dewpt\",\"vappr\", \"wddir\", \"w\", \"clht\", \"clamt\"], inplace=True)\n",
    "data = data.loc[:, ~data.columns.str.contains('^Unnamed')]"
   ]
  },
  {
   "cell_type": "markdown",
   "metadata": {},
   "source": [
    "## Wydzielenie daty i okresu godzinowego"
   ]
  },
  {
   "cell_type": "code",
   "execution_count": 4,
   "metadata": {
    "pycharm": {
     "is_executing": false
    }
   },
   "outputs": [],
   "source": [
    "data[\"dateTime\"] = pd.to_datetime(data[\"date\"])\n",
    "data[\"day\"] = data[\"dateTime\"].apply(func=lambda x: x.date())\n",
    "data[\"hour\"] = data[\"dateTime\"].apply(func=lambda x: x.hour)\n",
    "data[\"is_22_5\"] = data[\"hour\"].apply(func=lambda x: int(x>=22 or x<=5))\n",
    "data[\"is_6_13\"] = data[\"hour\"].apply(func=lambda x: int(x>=6 and x<=13))\n",
    "data[\"is_14_21\"] = data[\"hour\"].apply(func=lambda x: int(x>=14 and x<=21))"
   ]
  },
  {
   "cell_type": "markdown",
   "metadata": {},
   "source": [
    "## Wydzielenie miesiąca"
   ]
  },
  {
   "cell_type": "code",
   "execution_count": 5,
   "metadata": {
    "pycharm": {
     "is_executing": false
    }
   },
   "outputs": [],
   "source": [
    "data[\"is_jan_feb\"] = data[\"dateTime\"].apply(func=lambda x: int(x.month==1 or x.month==2))\n",
    "data[\"is_mar_apr\"] = data[\"dateTime\"].apply(func=lambda x: int(x.month==3 or x.month==4))\n",
    "data[\"is_may_jun\"] = data[\"dateTime\"].apply(func=lambda x: int(x.month==5 or x.month==6))\n",
    "data[\"is_jul_aug\"] = data[\"dateTime\"].apply(func=lambda x: int(x.month==7 or x.month==8))\n",
    "data[\"is_sep_oct\"] = data[\"dateTime\"].apply(func=lambda x: int(x.month==9 or x.month==10))\n",
    "data[\"is_nov_dec\"] = data[\"dateTime\"].apply(func=lambda x: int(x.month==11 or x.month==12))"
   ]
  },
  {
   "cell_type": "markdown",
   "metadata": {},
   "source": [
    "## Wydzielenie typu pogody - na podstawie pogody w"
   ]
  },
  {
   "cell_type": "code",
   "execution_count": 6,
   "metadata": {
    "pycharm": {
     "is_executing": false
    }
   },
   "outputs": [],
   "source": [
    "data[\"is_type_0\"] = data[\"ww\"].apply(func=lambda x: int(x<10))\n",
    "data[\"is_type_1\"] = data[\"ww\"].apply(func=lambda x: int(x>=10 and x<20))\n",
    "data[\"is_type_2\"] = data[\"ww\"].apply(func=lambda x: int(x>=20 and x<30))\n",
    "data[\"is_type_3\"] = data[\"ww\"].apply(func=lambda x: int(x>=30 and x<40))\n",
    "data[\"is_type_4\"] = data[\"ww\"].apply(func=lambda x: int(x>=40 and x<50))\n",
    "data[\"is_type_5\"] = data[\"ww\"].apply(func=lambda x: int(x>=50 and x<60))\n",
    "data[\"is_type_6\"] = data[\"ww\"].apply(func=lambda x: int(x>=60 and x<70))\n",
    "data[\"is_type_7\"] = data[\"ww\"].apply(func=lambda x: int(x>=70 and x<80))\n",
    "data[\"is_type_8\"] = data[\"ww\"].apply(func=lambda x: int(x>=80 and x<90))\n",
    "data[\"is_type_9\"] = data[\"ww\"].apply(func=lambda x: int(x>=90))"
   ]
  },
  {
   "cell_type": "markdown",
   "metadata": {},
   "source": [
    "## Wydzielanie kolumny odpowiedzialnej za przydziałdo serii"
   ]
  },
  {
   "cell_type": "code",
   "execution_count": 7,
   "metadata": {
    "pycharm": {
     "is_executing": false
    }
   },
   "outputs": [],
   "source": [
    "data[\"day_on_station\"] = data[\"day\"].astype(str) + data[\"station\"]"
   ]
  },
  {
   "cell_type": "markdown",
   "metadata": {},
   "source": [
    "## Usunięcie nepotrzebnych kolumn czasu i miejsca"
   ]
  },
  {
   "cell_type": "code",
   "execution_count": 8,
   "metadata": {
    "pycharm": {
     "is_executing": false
    }
   },
   "outputs": [
    {
     "name": "stdout",
     "output_type": "stream",
     "text": [
      "Index(['rain', 'temp', 'rhum', 'msl', 'wdsp', 'sun', 'vis', 'is_22_5',\n",
      "       'is_6_13', 'is_14_21', 'is_jan_feb', 'is_mar_apr', 'is_may_jun',\n",
      "       'is_jul_aug', 'is_sep_oct', 'is_nov_dec', 'is_type_0', 'is_type_1',\n",
      "       'is_type_2', 'is_type_3', 'is_type_4', 'is_type_5', 'is_type_6',\n",
      "       'is_type_7', 'is_type_8', 'is_type_9', 'day_on_station'],\n",
      "      dtype='object')\n"
     ]
    }
   ],
   "source": [
    "data.drop(columns=[\"dateTime\", \"day\", \"hour\", \"date\", \"station\", \"ww\"], inplace=True)\n",
    "\n",
    "print(data.columns)"
   ]
  },
  {
   "cell_type": "markdown",
   "metadata": {},
   "source": [
    "## Konwersja na tensor 3 wymiarowy"
   ]
  },
  {
   "cell_type": "code",
   "execution_count": 9,
   "metadata": {
    "pycharm": {
     "is_executing": false
    }
   },
   "outputs": [
    {
     "name": "stdout",
     "output_type": "stream",
     "text": [
      "(1769250, 27)\n",
      "(74973, 24, 26)\n"
     ]
    }
   ],
   "source": [
    "import numpy as np\n",
    "\n",
    "print(data.shape)\n",
    "g = data.groupby('day_on_station').cumcount()\n",
    "_list = (data\n",
    "     .set_index(['day_on_station',g])\n",
    "       .unstack(fill_value=0)\n",
    "       .stack().groupby(level=0)\n",
    "       .apply(lambda x: x.values.tolist())\n",
    "       .tolist())\n",
    "\n",
    "data = np.array(_list)\n",
    "print(data.shape)"
   ]
  },
  {
   "cell_type": "markdown",
   "metadata": {},
   "source": [
    "## Normalizacja danych"
   ]
  },
  {
   "cell_type": "code",
   "execution_count": 10,
   "metadata": {
    "pycharm": {
     "is_executing": false
    }
   },
   "outputs": [
    {
     "name": "stderr",
     "output_type": "stream",
     "text": [
      "c:\\program files\\python36\\lib\\site-packages\\ipykernel_launcher.py:1: RuntimeWarning: invalid value encountered in true_divide\n",
      "  \"\"\"Entry point for launching an IPython kernel.\n"
     ]
    }
   ],
   "source": [
    "data = data / np.abs(data).max(axis=0)\n",
    "data = np.nan_to_num(data)"
   ]
  },
  {
   "cell_type": "markdown",
   "metadata": {},
   "source": [
    "## Wydzielenie zbiorów"
   ]
  },
  {
   "cell_type": "code",
   "execution_count": 11,
   "metadata": {
    "pycharm": {
     "is_executing": false
    }
   },
   "outputs": [
    {
     "name": "stdout",
     "output_type": "stream",
     "text": [
      "Dane treningowe: (56229, 26, 23)\n"
     ]
    }
   ],
   "source": [
    "from sklearn.model_selection import train_test_split\n",
    "\n",
    "X = np.swapaxes(data[:, :23, :],1,2)\n",
    "Y = np.swapaxes(data[:, 23:, :],1,2)\n",
    "\n",
    "X_train, X_test, Y_train, Y_test = train_test_split(X, Y, random_state=0)\n",
    "print(\"Dane treningowe: \"+ str(X_train.shape))"
   ]
  },
  {
   "cell_type": "markdown",
   "metadata": {},
   "source": [
    "## Definicja sieci"
   ]
  },
  {
   "cell_type": "markdown",
   "metadata": {},
   "source": [
    "### Własna funkcja straty"
   ]
  },
  {
   "cell_type": "code",
   "execution_count": 91,
   "metadata": {},
   "outputs": [],
   "source": [
    "def loss_func(y_actual, y_predicted):\n",
    "    return ((y_actual[0,0] - y_predicted[0,0]) ** 2 + \\\n",
    "           (y_actual[0,1] - y_predicted[0,1]) ** 2 + \\\n",
    "           (y_actual[0,2] - y_predicted[0,2]) ** 2 + \\\n",
    "           (y_actual[0,3] - y_predicted[0,3]) ** 2 + \\\n",
    "           (y_actual[0,4] - y_predicted[0,4]) ** 2 + \\\n",
    "           (y_actual[0,5] - y_predicted[0,5]) ** 2 + \\\n",
    "           (y_actual[0,6] - y_predicted[0,6]) ** 2 + \\\n",
    "           (y_actual[0,16] - y_predicted[0,16]) ** 2 + \\\n",
    "           (y_actual[0,17] - y_predicted[0,17]) ** 2 + \\\n",
    "           (y_actual[0,18] - y_predicted[0,18]) ** 2 + \\\n",
    "           (y_actual[0,19] - y_predicted[0,19]) ** 2 + \\\n",
    "           (y_actual[0,20] - y_predicted[0,20]) ** 2 + \\\n",
    "           (y_actual[0,21] - y_predicted[0,21]) ** 2 + \\\n",
    "           (y_actual[0,22] - y_predicted[0,22]) ** 2 + \\\n",
    "           (y_actual[0,23] - y_predicted[0,23]) ** 2 + \\\n",
    "           (y_actual[0,24] - y_predicted[0,24]) ** 2 + \\\n",
    "           (y_actual[0,25] - y_predicted[0,25]) ** 2)/17"
   ]
  },
  {
   "cell_type": "code",
   "execution_count": 122,
   "metadata": {
    "pycharm": {
     "is_executing": false
    }
   },
   "outputs": [],
   "source": [
    "from tensorflow.keras import Sequential\n",
    "from tensorflow.keras.layers import LSTM, Dense\n",
    "from tensorflow_core.python.keras.optimizer_v2.rmsprop import RMSProp\n",
    "\n",
    "model = Sequential()\n",
    "model.add(Dense(128, input_shape=(26, 23), activation=\"relu\"))\n",
    "model.add(LSTM(units=128, activation=\"relu\"))\n",
    "model.add(Dense(256, activation=\"relu\"))\n",
    "model.add(Dense(26))\n",
    "model.compile(loss=loss_func, optimizer=RMSProp(lr=0.01), metrics=['accuracy'])"
   ]
  },
  {
   "cell_type": "markdown",
   "metadata": {},
   "source": [
    "## Uczenie"
   ]
  },
  {
   "cell_type": "code",
   "execution_count": 123,
   "metadata": {
    "pycharm": {
     "is_executing": true
    }
   },
   "outputs": [
    {
     "name": "stdout",
     "output_type": "stream",
     "text": [
      "Train on 56229 samples\n",
      "Epoch 1/40\n",
      "56229/56229 - 29s - loss: 37318934463570136.0000 - accuracy: 9.0701e-04\n",
      "Epoch 2/40\n",
      "56229/56229 - 29s - loss: 1.0310 - accuracy: 0.0033\n",
      "Epoch 3/40\n",
      "56229/56229 - 29s - loss: 0.3649 - accuracy: 0.0030\n",
      "Epoch 4/40\n",
      "56229/56229 - 28s - loss: 0.0338 - accuracy: 0.0035\n",
      "Epoch 5/40\n",
      "56229/56229 - 28s - loss: 0.0499 - accuracy: 0.0031\n",
      "Epoch 6/40\n",
      "56229/56229 - 28s - loss: 0.0340 - accuracy: 0.0025\n",
      "Epoch 7/40\n",
      "56229/56229 - 27s - loss: 0.4096 - accuracy: 0.0040\n",
      "Epoch 8/40\n",
      "56229/56229 - 28s - loss: 0.0432 - accuracy: 0.0039\n",
      "Epoch 9/40\n",
      "56229/56229 - 28s - loss: 6.8028 - accuracy: 0.0049\n",
      "Epoch 10/40\n",
      "56229/56229 - 27s - loss: 104.1611 - accuracy: 0.0024\n",
      "Epoch 11/40\n",
      "56229/56229 - 27s - loss: 695.2253 - accuracy: 0.0014\n",
      "Epoch 12/40\n",
      "56229/56229 - 27s - loss: 0.0454 - accuracy: 0.0000e+00\n",
      "Epoch 13/40\n",
      "56229/56229 - 27s - loss: 0.0465 - accuracy: 0.0000e+00\n",
      "Epoch 14/40\n",
      "56229/56229 - 27s - loss: 0.0462 - accuracy: 0.0000e+00\n",
      "Epoch 15/40\n",
      "56229/56229 - 27s - loss: 0.0452 - accuracy: 0.0000e+00\n",
      "Epoch 16/40\n",
      "56229/56229 - 27s - loss: 0.0454 - accuracy: 0.0000e+00\n",
      "Epoch 17/40\n",
      "56229/56229 - 28s - loss: 0.0446 - accuracy: 0.0000e+00\n",
      "Epoch 18/40\n",
      "56229/56229 - 27s - loss: 11.5260 - accuracy: 0.0000e+00\n",
      "Epoch 19/40\n",
      "56229/56229 - 27s - loss: 37.1049 - accuracy: 0.0000e+00\n",
      "Epoch 20/40\n",
      "56229/56229 - 27s - loss: 0.0458 - accuracy: 0.0000e+00\n",
      "Epoch 21/40\n",
      "56229/56229 - 27s - loss: 0.0458 - accuracy: 0.0000e+00\n",
      "Epoch 22/40\n",
      "56229/56229 - 27s - loss: 0.0459 - accuracy: 0.0000e+00\n",
      "Epoch 23/40\n",
      "56229/56229 - 27s - loss: 0.0450 - accuracy: 0.0000e+00\n",
      "Epoch 24/40\n",
      "56229/56229 - 27s - loss: 0.0455 - accuracy: 0.0000e+00\n",
      "Epoch 25/40\n",
      "56229/56229 - 27s - loss: 0.0455 - accuracy: 0.0000e+00\n",
      "Epoch 26/40\n",
      "56229/56229 - 27s - loss: 0.0470 - accuracy: 0.0000e+00\n",
      "Epoch 27/40\n",
      "56229/56229 - 28s - loss: 0.0453 - accuracy: 0.0000e+00\n",
      "Epoch 28/40\n",
      "56229/56229 - 27s - loss: 0.0458 - accuracy: 0.0000e+00\n",
      "Epoch 29/40\n",
      "56229/56229 - 28s - loss: 0.0448 - accuracy: 0.0000e+00\n",
      "Epoch 30/40\n",
      "56229/56229 - 28s - loss: 0.0463 - accuracy: 0.0000e+00\n",
      "Epoch 31/40\n",
      "56229/56229 - 27s - loss: 0.0459 - accuracy: 0.0000e+00\n",
      "Epoch 32/40\n",
      "56229/56229 - 28s - loss: 0.0448 - accuracy: 0.0000e+00\n",
      "Epoch 33/40\n",
      "56229/56229 - 28s - loss: 0.0456 - accuracy: 0.0000e+00\n",
      "Epoch 34/40\n",
      "56229/56229 - 29s - loss: 0.0455 - accuracy: 0.0000e+00\n",
      "Epoch 35/40\n",
      "56229/56229 - 28s - loss: 0.0444 - accuracy: 0.0000e+00\n",
      "Epoch 36/40\n",
      "56229/56229 - 27s - loss: 0.0465 - accuracy: 0.0000e+00\n",
      "Epoch 37/40\n",
      "56229/56229 - 28s - loss: 0.0453 - accuracy: 0.0000e+00\n",
      "Epoch 38/40\n",
      "56229/56229 - 27s - loss: 0.0451 - accuracy: 0.0000e+00\n",
      "Epoch 39/40\n",
      "56229/56229 - 27s - loss: 0.0443 - accuracy: 0.0000e+00\n",
      "Epoch 40/40\n",
      "56229/56229 - 27s - loss: 0.0452 - accuracy: 0.0000e+00\n"
     ]
    },
    {
     "data": {
      "text/plain": [
       "<tensorflow.python.keras.callbacks.History at 0x1874f8d3748>"
      ]
     },
     "execution_count": 123,
     "metadata": {},
     "output_type": "execute_result"
    }
   ],
   "source": [
    "model.fit(X_train,Y_train, epochs=40, batch_size=32, verbose=2)"
   ]
  },
  {
   "cell_type": "code",
   "execution_count": 124,
   "metadata": {
    "pycharm": {
     "is_executing": true
    }
   },
   "outputs": [
    {
     "data": {
      "text/plain": [
       "[0.0453892850010595, 0.0]"
      ]
     },
     "execution_count": 124,
     "metadata": {},
     "output_type": "execute_result"
    }
   ],
   "source": [
    "model.evaluate(X_test, Y_test, verbose=0)"
   ]
  },
  {
   "cell_type": "code",
   "execution_count": 134,
   "metadata": {
    "pycharm": {
     "is_executing": true
    }
   },
   "outputs": [
    {
     "name": "stdout",
     "output_type": "stream",
     "text": [
      "[[-0.    0.38  0.83  0.93  0.14  0.    0.39  0.    0.    0.    0.    0.\n",
      "   0.    0.    0.    0.    0.69  0.01  0.09 -0.    0.    0.01  0.   -0.\n",
      "   0.    0.  ]]\n",
      "\n",
      "\n",
      "[[0.   0.59 0.83 0.97 0.07 0.   0.53 1.   0.   0.   0.   0.   0.   1.\n",
      "  0.   0.   1.   0.   0.   0.   0.   0.   0.   0.   0.   0.  ]]\n"
     ]
    }
   ],
   "source": [
    "print(np.round(model.predict(X_test[3539:3540,:,:]),2))\n",
    "print(\"\\n\")\n",
    "print(np.round(X_test[3539:3540,:,22],2))"
   ]
  },
  {
   "cell_type": "markdown",
   "metadata": {
    "pycharm": {
     "is_executing": true
    }
   },
   "source": [
    "## Wykres zmiennosci temperatur"
   ]
  },
  {
   "cell_type": "markdown",
   "metadata": {},
   "source": [
    "### Prawdziwe temperatury"
   ]
  },
  {
   "cell_type": "code",
   "execution_count": 126,
   "metadata": {},
   "outputs": [
    {
     "data": {
      "image/png": "[encoded data removed]",
      "text/plain": [
       "<Figure size 432x288 with 1 Axes>"
      ]
     },
     "metadata": {
      "needs_background": "light"
     },
     "output_type": "display_data"
    }
   ],
   "source": [
    "import matplotlib.pyplot as plt\n",
    "plt.plot(np.squeeze(X_test[1:2:,1:2,:]))\n",
    "plt.ylabel('some numbers')\n",
    "plt.show()"
   ]
  },
  {
   "cell_type": "markdown",
   "metadata": {},
   "source": [
    "### Przewidziane temperatury"
   ]
  },
  {
   "cell_type": "code",
   "execution_count": 127,
   "metadata": {},
   "outputs": [
    {
     "name": "stdout",
     "output_type": "stream",
     "text": [
      "(1, 26, 23)\n"
     ]
    },
    {
     "data": {
      "image/png": "[encoded data removed]",
      "text/plain": [
       "<Figure size 432x288 with 1 Axes>"
      ]
     },
     "metadata": {
      "needs_background": "light"
     },
     "output_type": "display_data"
    }
   ],
   "source": [
    "temps = []\n",
    "temp_row = np.array(X_test[0:1,:,:]) \n",
    "for i in range(24):\n",
    "    predicted = model.predict(temp_row)\n",
    "    \n",
    "    predicted[0,7] = int(i>=22 or i<=5)\n",
    "    predicted[0,8] = int(i>=6 and i<=13)\n",
    "    predicted[0,9] = int(i>=14 and i<=21)\n",
    "    \n",
    "    predicted[0,10] = temp_row[0, 10, 0]\n",
    "    predicted[0,11] = temp_row[0, 11, 0]\n",
    "    predicted[0,12] = temp_row[0, 12, 0]\n",
    "    predicted[0,13] = temp_row[0, 13, 0]\n",
    "    predicted[0,14] = temp_row[0, 14, 0]\n",
    "    predicted[0,15] = temp_row[0, 15, 0]\n",
    "    \n",
    "    predicted = np.expand_dims(predicted, axis=2)\n",
    "    temp_row = np.append(arr=temp_row, values=predicted, axis=2)\n",
    "    temp_row = temp_row[:,:,1:]\n",
    "print(temp_row.shape)\n",
    "\n",
    "\n",
    "plt.plot(np.squeeze(temp_row[:,1:2,:]))\n",
    "plt.ylabel('some numbers')\n",
    "plt.show()"
   ]
  },
  {
   "cell_type": "markdown",
   "metadata": {},
   "source": [
    "## "
   ]
  }
 ],
 "metadata": {
  "kernelspec": {
   "display_name": "Python 3",
   "language": "python",
   "name": "python3"
  },
  "language_info": {
   "codemirror_mode": {
    "name": "ipython",
    "version": 3
   },
   "file_extension": ".py",
   "mimetype": "text/x-python",
   "name": "python",
   "nbconvert_exporter": "python",
   "pygments_lexer": "ipython3",
   "version": "3.6.1"
  },
  "pycharm": {
   "stem_cell": {
    "cell_type": "raw",
    "metadata": {
     "collapsed": false
    },
    "source": []
   }
  }
 },
 "nbformat": 4,
 "nbformat_minor": 4
}
